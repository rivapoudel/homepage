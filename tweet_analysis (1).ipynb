{
  "nbformat": 4,
  "nbformat_minor": 0,
  "metadata": {
    "colab": {
      "provenance": []
    },
    "kernelspec": {
      "name": "python3",
      "display_name": "Python 3"
    },
    "language_info": {
      "name": "python"
    }
  },
  "cells": [
    {
      "cell_type": "markdown",
      "source": [
        "#Tweet Analysis\n",
        "\n",
        "Using the exsisting data frame of full_list, we will clean and explore the data. "
      ],
      "metadata": {
        "id": "Qj44FwfN3Y8-"
      }
    },
    {
      "cell_type": "markdown",
      "source": [
        "\n",
        "07/07\n",
        " - linear model🌟\n",
        " - Coorelation exploration🌟\n",
        "\n",
        " 07/11\n",
        "- Text analysis🌟\n",
        "- Clean-up of code🌟\n",
        "- Include comments🌟\n",
        "\n",
        "07/13\n",
        "-  Model of Compound attribute and specific words\n",
        "\n",
        "\n",
        "*Keep running the program\n",
        "\n",
        "\n"
      ],
      "metadata": {
        "id": "5U_wQBHEhD6M"
      }
    },
    {
      "cell_type": "markdown",
      "source": [
        "# Section 1: Imports "
      ],
      "metadata": {
        "id": "4-_JHS5Ger_A"
      }
    },
    {
      "cell_type": "code",
      "source": [
        "!pip install -q lib5c\n",
        "!lib5c -v"
      ],
      "metadata": {
        "id": "lzi5p5ua3vf4",
        "colab": {
          "base_uri": "https://localhost:8080/"
        },
        "outputId": "c51a9ec9-7f43-4bfe-af50-e85f59ec69c6"
      },
      "execution_count": null,
      "outputs": [
        {
          "output_type": "stream",
          "name": "stdout",
          "text": [
            "\u001b[K     |████████████████████████████████| 16.2 MB 547 kB/s \n",
            "\u001b[K     |████████████████████████████████| 1.2 MB 30.1 MB/s \n",
            "\u001b[?25h  Building wheel for interlap (setup.py) ... \u001b[?25l\u001b[?25hdone\n",
            "  Building wheel for luigi (setup.py) ... \u001b[?25l\u001b[?25hdone\n",
            "lib5c version 0.6.1\n"
          ]
        }
      ]
    },
    {
      "cell_type": "code",
      "source": [
        "pip install searchtweets"
      ],
      "metadata": {
        "id": "hycuJLzF4XwV",
        "colab": {
          "base_uri": "https://localhost:8080/"
        },
        "outputId": "573a2385-eb6a-4490-c38c-9c23de2d92b4"
      },
      "execution_count": null,
      "outputs": [
        {
          "output_type": "stream",
          "name": "stdout",
          "text": [
            "Looking in indexes: https://pypi.org/simple, https://us-python.pkg.dev/colab-wheels/public/simple/\n",
            "Collecting searchtweets\n",
            "  Downloading searchtweets-1.7.6-py3-none-any.whl (29 kB)\n",
            "Requirement already satisfied: requests in /usr/local/lib/python3.7/dist-packages (from searchtweets) (2.23.0)\n",
            "Requirement already satisfied: pyyaml in /usr/local/lib/python3.7/dist-packages (from searchtweets) (3.13)\n",
            "Collecting tweet-parser\n",
            "  Downloading tweet_parser-1.13.2-py3-none-any.whl (34 kB)\n",
            "Requirement already satisfied: certifi>=2017.4.17 in /usr/local/lib/python3.7/dist-packages (from requests->searchtweets) (2022.6.15)\n",
            "Requirement already satisfied: idna<3,>=2.5 in /usr/local/lib/python3.7/dist-packages (from requests->searchtweets) (2.10)\n",
            "Requirement already satisfied: urllib3!=1.25.0,!=1.25.1,<1.26,>=1.21.1 in /usr/local/lib/python3.7/dist-packages (from requests->searchtweets) (1.24.3)\n",
            "Requirement already satisfied: chardet<4,>=3.0.2 in /usr/local/lib/python3.7/dist-packages (from requests->searchtweets) (3.0.4)\n",
            "Installing collected packages: tweet-parser, searchtweets\n",
            "Successfully installed searchtweets-1.7.6 tweet-parser-1.13.2\n"
          ]
        }
      ]
    },
    {
      "cell_type": "code",
      "source": [
        "pip install nrclex"
      ],
      "metadata": {
        "id": "dT7ekOb34ad2",
        "colab": {
          "base_uri": "https://localhost:8080/"
        },
        "outputId": "be3663e5-6cc4-4255-d133-2ceace7ebed0"
      },
      "execution_count": null,
      "outputs": [
        {
          "output_type": "stream",
          "name": "stdout",
          "text": [
            "Looking in indexes: https://pypi.org/simple, https://us-python.pkg.dev/colab-wheels/public/simple/\n",
            "Collecting nrclex\n",
            "  Downloading NRCLex-3.0.0.tar.gz (396 kB)\n",
            "\u001b[K     |████████████████████████████████| 396 kB 4.9 MB/s \n",
            "\u001b[?25hRequirement already satisfied: textblob in /usr/local/lib/python3.7/dist-packages (from nrclex) (0.15.3)\n",
            "Requirement already satisfied: nltk>=3.1 in /usr/local/lib/python3.7/dist-packages (from textblob->nrclex) (3.7)\n",
            "Requirement already satisfied: joblib in /usr/local/lib/python3.7/dist-packages (from nltk>=3.1->textblob->nrclex) (1.1.0)\n",
            "Requirement already satisfied: regex>=2021.8.3 in /usr/local/lib/python3.7/dist-packages (from nltk>=3.1->textblob->nrclex) (2022.6.2)\n",
            "Requirement already satisfied: tqdm in /usr/local/lib/python3.7/dist-packages (from nltk>=3.1->textblob->nrclex) (4.64.0)\n",
            "Requirement already satisfied: click in /usr/local/lib/python3.7/dist-packages (from nltk>=3.1->textblob->nrclex) (7.1.2)\n",
            "Building wheels for collected packages: nrclex\n",
            "  Building wheel for nrclex (setup.py) ... \u001b[?25l\u001b[?25hdone\n",
            "  Created wheel for nrclex: filename=NRCLex-3.0.0-py3-none-any.whl size=43329 sha256=9d12a3b2bbe2895fa25601b1765f3aa57a5b348148d63c629e6b72bd6115f969\n",
            "  Stored in directory: /root/.cache/pip/wheels/af/2c/9c/dfa19d1b65326c520b32850a9311f6d4eda679ac04dba26081\n",
            "Successfully built nrclex\n",
            "Installing collected packages: nrclex\n",
            "Successfully installed nrclex-3.0.0\n"
          ]
        }
      ]
    },
    {
      "cell_type": "code",
      "source": [
        "from ctypes import sizeof\n",
        "import re\n",
        "import pandas as pd\n",
        "import tweepy\n",
        "import math\n",
        "import csv\n",
        "import ast\n",
        "import searchtweets\n",
        "import numpy as np\n",
        "import seaborn as sns\n",
        "import matplotlib.pyplot as plt\n",
        "plt.style.use('seaborn-darkgrid')\n",
        "from getpass import getuser\n",
        "from operator import delitem\n",
        "from tweepy import OAuthHandler\n",
        "from textblob import TextBlob\n",
        "from nltk.tokenize import TweetTokenizer\n",
        "from nltk.stem.wordnet import WordNetLemmatizer\n",
        "from wordcloud import WordCloud, ImageColorGenerator\n",
        "from nltk.corpus import stopwords\n",
        "from nltk.sentiment.vader import SentimentIntensityAnalyzer\n",
        "from nrclex import NRCLex\n",
        "from sklearn.linear_model import LinearRegression\n",
        "from sklearn.linear_model import LogisticRegression\n",
        "from sklearn import metrics\n",
        "from sklearn.metrics import classification_report, confusion_matrix\n",
        "from sklearn.model_selection import train_test_split\n",
        "from sklearn import tree\n",
        "from sklearn.tree import DecisionTreeClassifier\n",
        "from sklearn.metrics import top_k_accuracy_score\n",
        "\n",
        "\n",
        "from sklearn import model_selection, preprocessing, linear_model, naive_bayes, metrics, svm\n",
        "from sklearn.feature_extraction.text import TfidfVectorizer, CountVectorizer"
      ],
      "metadata": {
        "id": "Nkd_gdLK3ZSR"
      },
      "execution_count": null,
      "outputs": []
    },
    {
      "cell_type": "code",
      "source": [
        "import nltk\n",
        "import ssl\n",
        "try:\n",
        "    _create_unverified_https_context = ssl._create_unverified_context\n",
        "except AttributeError:\n",
        "    pass\n",
        "else:\n",
        "    ssl._create_default_https_context = _create_unverified_https_context\n",
        "\n",
        "nltk.download('wordnet')\n",
        "nltk.download('omw-1.4')\n",
        "nltk.download('stopwords')\n",
        "nltk.download('vader_lexicon')\n",
        "nltk.download('punkt')"
      ],
      "metadata": {
        "id": "toyttEkG3iWI",
        "colab": {
          "base_uri": "https://localhost:8080/"
        },
        "outputId": "08a3d9d4-f545-4fcd-f556-f5deb5c497d1"
      },
      "execution_count": null,
      "outputs": [
        {
          "output_type": "stream",
          "name": "stderr",
          "text": [
            "[nltk_data] Downloading package wordnet to /root/nltk_data...\n",
            "[nltk_data] Downloading package omw-1.4 to /root/nltk_data...\n",
            "[nltk_data] Downloading package stopwords to /root/nltk_data...\n",
            "[nltk_data]   Unzipping corpora/stopwords.zip.\n",
            "[nltk_data] Downloading package vader_lexicon to /root/nltk_data...\n",
            "[nltk_data] Downloading package punkt to /root/nltk_data...\n",
            "[nltk_data]   Unzipping tokenizers/punkt.zip.\n"
          ]
        },
        {
          "output_type": "execute_result",
          "data": {
            "text/plain": [
              "True"
            ]
          },
          "metadata": {},
          "execution_count": 5
        }
      ]
    },
    {
      "cell_type": "code",
      "source": [
        "from google.colab import drive\n",
        "\n",
        "drive.mount('/content/drive')\n",
        "path = '/content/drive/My Drive/full_list.csv'"
      ],
      "metadata": {
        "id": "AoD4WFi334Ck",
        "colab": {
          "base_uri": "https://localhost:8080/"
        },
        "outputId": "ccbe0973-e34b-4008-9a7b-abf22a6dd41a"
      },
      "execution_count": null,
      "outputs": [
        {
          "output_type": "stream",
          "name": "stdout",
          "text": [
            "Mounted at /content/drive\n"
          ]
        }
      ]
    },
    {
      "cell_type": "code",
      "source": [
        "#Reading the File\n",
        "df = pd.read_csv('/content/drive/My Drive/full_list.csv')\n",
        "\n",
        "#geo column has been null for the entire duration of the project\n",
        "df = df.drop('geo', axis=1)\n",
        "\n",
        "#Removing the index\n",
        "df = df.drop('Unnamed: 0', axis=1)"
      ],
      "metadata": {
        "id": "USjl0ywO34qZ"
      },
      "execution_count": null,
      "outputs": []
    },
    {
      "cell_type": "markdown",
      "source": [
        "#Section 2: Review of the Data Set\n",
        "\n",
        "The orginial data set comes from the new_getTweets program. The CSV file exports to full_list.csv. In our original overview of the data set, there were a number of issues with the three attributes sentiment, compound, and compund_result. These attributes were included locally in the new_getTweets program. To midigate any further errors, a new data frame (new_df), was created in which these attributes were again calculated locally on *this* data set. "
      ],
      "metadata": {
        "id": "TgUdw2dYeybD"
      }
    },
    {
      "cell_type": "code",
      "source": [
        "df.head()"
      ],
      "metadata": {
        "id": "bIs2kXYYedUy",
        "colab": {
          "base_uri": "https://localhost:8080/",
          "height": 206
        },
        "outputId": "bd5707b5-1c55-4135-ff62-943d471ea3dd"
      },
      "execution_count": null,
      "outputs": [
        {
          "output_type": "execute_result",
          "data": {
            "text/plain": [
              "       screen name  likes  retweets                 date  verified  \\\n",
              "0    imendangerous      0         0  2022-06-14 18:24:26     False   \n",
              "1        drake_phd      0         0  2022-06-14 18:21:50     False   \n",
              "2  Shirley33594843      0         0  2022-06-14 18:21:17     False   \n",
              "3        AlephBlog      1         1  2022-06-14 18:18:32     False   \n",
              "4         puronics      0         1  2022-06-14 18:16:13     False   \n",
              "\n",
              "                                                 URL  \\\n",
              "0  https://twitter.com/imendangerous/status/15367...   \n",
              "1  https://twitter.com/drake_phd/status/153677593...   \n",
              "2  https://twitter.com/Shirley33594843/status/153...   \n",
              "3  https://twitter.com/AlephBlog/status/153677511...   \n",
              "4  https://twitter.com/puronics/status/1536774527...   \n",
              "\n",
              "                                                text  \n",
              "0  PFAS Neonicotinoids On 6 15 Congressional hear...  \n",
              "1  Our lab is officially on the way to Wilmington...  \n",
              "2  Forever Chemicals Linked to Heart Risks Medici...  \n",
              "3  A 3M factory spewed forever chemicals for deca...  \n",
              "4  A study estimated that two of the most common ...  "
            ],
            "text/html": [
              "\n",
              "  <div id=\"df-676e30ba-8f22-4001-9963-3ae3bc3cc2a9\">\n",
              "    <div class=\"colab-df-container\">\n",
              "      <div>\n",
              "<style scoped>\n",
              "    .dataframe tbody tr th:only-of-type {\n",
              "        vertical-align: middle;\n",
              "    }\n",
              "\n",
              "    .dataframe tbody tr th {\n",
              "        vertical-align: top;\n",
              "    }\n",
              "\n",
              "    .dataframe thead th {\n",
              "        text-align: right;\n",
              "    }\n",
              "</style>\n",
              "<table border=\"1\" class=\"dataframe\">\n",
              "  <thead>\n",
              "    <tr style=\"text-align: right;\">\n",
              "      <th></th>\n",
              "      <th>screen name</th>\n",
              "      <th>likes</th>\n",
              "      <th>retweets</th>\n",
              "      <th>date</th>\n",
              "      <th>verified</th>\n",
              "      <th>URL</th>\n",
              "      <th>text</th>\n",
              "    </tr>\n",
              "  </thead>\n",
              "  <tbody>\n",
              "    <tr>\n",
              "      <th>0</th>\n",
              "      <td>imendangerous</td>\n",
              "      <td>0</td>\n",
              "      <td>0</td>\n",
              "      <td>2022-06-14 18:24:26</td>\n",
              "      <td>False</td>\n",
              "      <td>https://twitter.com/imendangerous/status/15367...</td>\n",
              "      <td>PFAS Neonicotinoids On 6 15 Congressional hear...</td>\n",
              "    </tr>\n",
              "    <tr>\n",
              "      <th>1</th>\n",
              "      <td>drake_phd</td>\n",
              "      <td>0</td>\n",
              "      <td>0</td>\n",
              "      <td>2022-06-14 18:21:50</td>\n",
              "      <td>False</td>\n",
              "      <td>https://twitter.com/drake_phd/status/153677593...</td>\n",
              "      <td>Our lab is officially on the way to Wilmington...</td>\n",
              "    </tr>\n",
              "    <tr>\n",
              "      <th>2</th>\n",
              "      <td>Shirley33594843</td>\n",
              "      <td>0</td>\n",
              "      <td>0</td>\n",
              "      <td>2022-06-14 18:21:17</td>\n",
              "      <td>False</td>\n",
              "      <td>https://twitter.com/Shirley33594843/status/153...</td>\n",
              "      <td>Forever Chemicals Linked to Heart Risks Medici...</td>\n",
              "    </tr>\n",
              "    <tr>\n",
              "      <th>3</th>\n",
              "      <td>AlephBlog</td>\n",
              "      <td>1</td>\n",
              "      <td>1</td>\n",
              "      <td>2022-06-14 18:18:32</td>\n",
              "      <td>False</td>\n",
              "      <td>https://twitter.com/AlephBlog/status/153677511...</td>\n",
              "      <td>A 3M factory spewed forever chemicals for deca...</td>\n",
              "    </tr>\n",
              "    <tr>\n",
              "      <th>4</th>\n",
              "      <td>puronics</td>\n",
              "      <td>0</td>\n",
              "      <td>1</td>\n",
              "      <td>2022-06-14 18:16:13</td>\n",
              "      <td>False</td>\n",
              "      <td>https://twitter.com/puronics/status/1536774527...</td>\n",
              "      <td>A study estimated that two of the most common ...</td>\n",
              "    </tr>\n",
              "  </tbody>\n",
              "</table>\n",
              "</div>\n",
              "      <button class=\"colab-df-convert\" onclick=\"convertToInteractive('df-676e30ba-8f22-4001-9963-3ae3bc3cc2a9')\"\n",
              "              title=\"Convert this dataframe to an interactive table.\"\n",
              "              style=\"display:none;\">\n",
              "        \n",
              "  <svg xmlns=\"http://www.w3.org/2000/svg\" height=\"24px\"viewBox=\"0 0 24 24\"\n",
              "       width=\"24px\">\n",
              "    <path d=\"M0 0h24v24H0V0z\" fill=\"none\"/>\n",
              "    <path d=\"M18.56 5.44l.94 2.06.94-2.06 2.06-.94-2.06-.94-.94-2.06-.94 2.06-2.06.94zm-11 1L8.5 8.5l.94-2.06 2.06-.94-2.06-.94L8.5 2.5l-.94 2.06-2.06.94zm10 10l.94 2.06.94-2.06 2.06-.94-2.06-.94-.94-2.06-.94 2.06-2.06.94z\"/><path d=\"M17.41 7.96l-1.37-1.37c-.4-.4-.92-.59-1.43-.59-.52 0-1.04.2-1.43.59L10.3 9.45l-7.72 7.72c-.78.78-.78 2.05 0 2.83L4 21.41c.39.39.9.59 1.41.59.51 0 1.02-.2 1.41-.59l7.78-7.78 2.81-2.81c.8-.78.8-2.07 0-2.86zM5.41 20L4 18.59l7.72-7.72 1.47 1.35L5.41 20z\"/>\n",
              "  </svg>\n",
              "      </button>\n",
              "      \n",
              "  <style>\n",
              "    .colab-df-container {\n",
              "      display:flex;\n",
              "      flex-wrap:wrap;\n",
              "      gap: 12px;\n",
              "    }\n",
              "\n",
              "    .colab-df-convert {\n",
              "      background-color: #E8F0FE;\n",
              "      border: none;\n",
              "      border-radius: 50%;\n",
              "      cursor: pointer;\n",
              "      display: none;\n",
              "      fill: #1967D2;\n",
              "      height: 32px;\n",
              "      padding: 0 0 0 0;\n",
              "      width: 32px;\n",
              "    }\n",
              "\n",
              "    .colab-df-convert:hover {\n",
              "      background-color: #E2EBFA;\n",
              "      box-shadow: 0px 1px 2px rgba(60, 64, 67, 0.3), 0px 1px 3px 1px rgba(60, 64, 67, 0.15);\n",
              "      fill: #174EA6;\n",
              "    }\n",
              "\n",
              "    [theme=dark] .colab-df-convert {\n",
              "      background-color: #3B4455;\n",
              "      fill: #D2E3FC;\n",
              "    }\n",
              "\n",
              "    [theme=dark] .colab-df-convert:hover {\n",
              "      background-color: #434B5C;\n",
              "      box-shadow: 0px 1px 3px 1px rgba(0, 0, 0, 0.15);\n",
              "      filter: drop-shadow(0px 1px 2px rgba(0, 0, 0, 0.3));\n",
              "      fill: #FFFFFF;\n",
              "    }\n",
              "  </style>\n",
              "\n",
              "      <script>\n",
              "        const buttonEl =\n",
              "          document.querySelector('#df-676e30ba-8f22-4001-9963-3ae3bc3cc2a9 button.colab-df-convert');\n",
              "        buttonEl.style.display =\n",
              "          google.colab.kernel.accessAllowed ? 'block' : 'none';\n",
              "\n",
              "        async function convertToInteractive(key) {\n",
              "          const element = document.querySelector('#df-676e30ba-8f22-4001-9963-3ae3bc3cc2a9');\n",
              "          const dataTable =\n",
              "            await google.colab.kernel.invokeFunction('convertToInteractive',\n",
              "                                                     [key], {});\n",
              "          if (!dataTable) return;\n",
              "\n",
              "          const docLinkHtml = 'Like what you see? Visit the ' +\n",
              "            '<a target=\"_blank\" href=https://colab.research.google.com/notebooks/data_table.ipynb>data table notebook</a>'\n",
              "            + ' to learn more about interactive tables.';\n",
              "          element.innerHTML = '';\n",
              "          dataTable['output_type'] = 'display_data';\n",
              "          await google.colab.output.renderOutput(dataTable, element);\n",
              "          const docLink = document.createElement('div');\n",
              "          docLink.innerHTML = docLinkHtml;\n",
              "          element.appendChild(docLink);\n",
              "        }\n",
              "      </script>\n",
              "    </div>\n",
              "  </div>\n",
              "  "
            ]
          },
          "metadata": {},
          "execution_count": 8
        }
      ]
    },
    {
      "cell_type": "code",
      "source": [
        "df.describe(include='all')"
      ],
      "metadata": {
        "id": "PyINj3BH6qFS",
        "colab": {
          "base_uri": "https://localhost:8080/",
          "height": 394
        },
        "outputId": "5682e075-f5ac-4e1b-a6c3-e939f5753f7b"
      },
      "execution_count": null,
      "outputs": [
        {
          "output_type": "execute_result",
          "data": {
            "text/plain": [
              "           screen name        likes     retweets                 date  \\\n",
              "count             1000  1000.000000  1000.000000                 1000   \n",
              "unique             659          NaN          NaN                  800   \n",
              "top     katierosenberg          NaN          NaN  2022-06-14 16:35:52   \n",
              "freq                 9          NaN          NaN                    4   \n",
              "mean               NaN     1.679000     0.494000                  NaN   \n",
              "std                NaN    10.710494     1.775138                  NaN   \n",
              "min                NaN     0.000000     0.000000                  NaN   \n",
              "25%                NaN     0.000000     0.000000                  NaN   \n",
              "50%                NaN     0.000000     0.000000                  NaN   \n",
              "75%                NaN     1.000000     0.000000                  NaN   \n",
              "max                NaN   284.000000    30.000000                  NaN   \n",
              "\n",
              "       verified                                                URL  \\\n",
              "count      1000                                               1000   \n",
              "unique        2                                                806   \n",
              "top       False  https://twitter.com/imendangerous/status/15367...   \n",
              "freq        823                                                  2   \n",
              "mean        NaN                                                NaN   \n",
              "std         NaN                                                NaN   \n",
              "min         NaN                                                NaN   \n",
              "25%         NaN                                                NaN   \n",
              "50%         NaN                                                NaN   \n",
              "75%         NaN                                                NaN   \n",
              "max         NaN                                                NaN   \n",
              "\n",
              "                                                     text  \n",
              "count                                                1000  \n",
              "unique                                                674  \n",
              "top     Forever chemicals linked to high blood pressur...  \n",
              "freq                                                   34  \n",
              "mean                                                  NaN  \n",
              "std                                                   NaN  \n",
              "min                                                   NaN  \n",
              "25%                                                   NaN  \n",
              "50%                                                   NaN  \n",
              "75%                                                   NaN  \n",
              "max                                                   NaN  "
            ],
            "text/html": [
              "\n",
              "  <div id=\"df-3e6dd5a6-1cd9-4983-a863-17872569028a\">\n",
              "    <div class=\"colab-df-container\">\n",
              "      <div>\n",
              "<style scoped>\n",
              "    .dataframe tbody tr th:only-of-type {\n",
              "        vertical-align: middle;\n",
              "    }\n",
              "\n",
              "    .dataframe tbody tr th {\n",
              "        vertical-align: top;\n",
              "    }\n",
              "\n",
              "    .dataframe thead th {\n",
              "        text-align: right;\n",
              "    }\n",
              "</style>\n",
              "<table border=\"1\" class=\"dataframe\">\n",
              "  <thead>\n",
              "    <tr style=\"text-align: right;\">\n",
              "      <th></th>\n",
              "      <th>screen name</th>\n",
              "      <th>likes</th>\n",
              "      <th>retweets</th>\n",
              "      <th>date</th>\n",
              "      <th>verified</th>\n",
              "      <th>URL</th>\n",
              "      <th>text</th>\n",
              "    </tr>\n",
              "  </thead>\n",
              "  <tbody>\n",
              "    <tr>\n",
              "      <th>count</th>\n",
              "      <td>1000</td>\n",
              "      <td>1000.000000</td>\n",
              "      <td>1000.000000</td>\n",
              "      <td>1000</td>\n",
              "      <td>1000</td>\n",
              "      <td>1000</td>\n",
              "      <td>1000</td>\n",
              "    </tr>\n",
              "    <tr>\n",
              "      <th>unique</th>\n",
              "      <td>659</td>\n",
              "      <td>NaN</td>\n",
              "      <td>NaN</td>\n",
              "      <td>800</td>\n",
              "      <td>2</td>\n",
              "      <td>806</td>\n",
              "      <td>674</td>\n",
              "    </tr>\n",
              "    <tr>\n",
              "      <th>top</th>\n",
              "      <td>katierosenberg</td>\n",
              "      <td>NaN</td>\n",
              "      <td>NaN</td>\n",
              "      <td>2022-06-14 16:35:52</td>\n",
              "      <td>False</td>\n",
              "      <td>https://twitter.com/imendangerous/status/15367...</td>\n",
              "      <td>Forever chemicals linked to high blood pressur...</td>\n",
              "    </tr>\n",
              "    <tr>\n",
              "      <th>freq</th>\n",
              "      <td>9</td>\n",
              "      <td>NaN</td>\n",
              "      <td>NaN</td>\n",
              "      <td>4</td>\n",
              "      <td>823</td>\n",
              "      <td>2</td>\n",
              "      <td>34</td>\n",
              "    </tr>\n",
              "    <tr>\n",
              "      <th>mean</th>\n",
              "      <td>NaN</td>\n",
              "      <td>1.679000</td>\n",
              "      <td>0.494000</td>\n",
              "      <td>NaN</td>\n",
              "      <td>NaN</td>\n",
              "      <td>NaN</td>\n",
              "      <td>NaN</td>\n",
              "    </tr>\n",
              "    <tr>\n",
              "      <th>std</th>\n",
              "      <td>NaN</td>\n",
              "      <td>10.710494</td>\n",
              "      <td>1.775138</td>\n",
              "      <td>NaN</td>\n",
              "      <td>NaN</td>\n",
              "      <td>NaN</td>\n",
              "      <td>NaN</td>\n",
              "    </tr>\n",
              "    <tr>\n",
              "      <th>min</th>\n",
              "      <td>NaN</td>\n",
              "      <td>0.000000</td>\n",
              "      <td>0.000000</td>\n",
              "      <td>NaN</td>\n",
              "      <td>NaN</td>\n",
              "      <td>NaN</td>\n",
              "      <td>NaN</td>\n",
              "    </tr>\n",
              "    <tr>\n",
              "      <th>25%</th>\n",
              "      <td>NaN</td>\n",
              "      <td>0.000000</td>\n",
              "      <td>0.000000</td>\n",
              "      <td>NaN</td>\n",
              "      <td>NaN</td>\n",
              "      <td>NaN</td>\n",
              "      <td>NaN</td>\n",
              "    </tr>\n",
              "    <tr>\n",
              "      <th>50%</th>\n",
              "      <td>NaN</td>\n",
              "      <td>0.000000</td>\n",
              "      <td>0.000000</td>\n",
              "      <td>NaN</td>\n",
              "      <td>NaN</td>\n",
              "      <td>NaN</td>\n",
              "      <td>NaN</td>\n",
              "    </tr>\n",
              "    <tr>\n",
              "      <th>75%</th>\n",
              "      <td>NaN</td>\n",
              "      <td>1.000000</td>\n",
              "      <td>0.000000</td>\n",
              "      <td>NaN</td>\n",
              "      <td>NaN</td>\n",
              "      <td>NaN</td>\n",
              "      <td>NaN</td>\n",
              "    </tr>\n",
              "    <tr>\n",
              "      <th>max</th>\n",
              "      <td>NaN</td>\n",
              "      <td>284.000000</td>\n",
              "      <td>30.000000</td>\n",
              "      <td>NaN</td>\n",
              "      <td>NaN</td>\n",
              "      <td>NaN</td>\n",
              "      <td>NaN</td>\n",
              "    </tr>\n",
              "  </tbody>\n",
              "</table>\n",
              "</div>\n",
              "      <button class=\"colab-df-convert\" onclick=\"convertToInteractive('df-3e6dd5a6-1cd9-4983-a863-17872569028a')\"\n",
              "              title=\"Convert this dataframe to an interactive table.\"\n",
              "              style=\"display:none;\">\n",
              "        \n",
              "  <svg xmlns=\"http://www.w3.org/2000/svg\" height=\"24px\"viewBox=\"0 0 24 24\"\n",
              "       width=\"24px\">\n",
              "    <path d=\"M0 0h24v24H0V0z\" fill=\"none\"/>\n",
              "    <path d=\"M18.56 5.44l.94 2.06.94-2.06 2.06-.94-2.06-.94-.94-2.06-.94 2.06-2.06.94zm-11 1L8.5 8.5l.94-2.06 2.06-.94-2.06-.94L8.5 2.5l-.94 2.06-2.06.94zm10 10l.94 2.06.94-2.06 2.06-.94-2.06-.94-.94-2.06-.94 2.06-2.06.94z\"/><path d=\"M17.41 7.96l-1.37-1.37c-.4-.4-.92-.59-1.43-.59-.52 0-1.04.2-1.43.59L10.3 9.45l-7.72 7.72c-.78.78-.78 2.05 0 2.83L4 21.41c.39.39.9.59 1.41.59.51 0 1.02-.2 1.41-.59l7.78-7.78 2.81-2.81c.8-.78.8-2.07 0-2.86zM5.41 20L4 18.59l7.72-7.72 1.47 1.35L5.41 20z\"/>\n",
              "  </svg>\n",
              "      </button>\n",
              "      \n",
              "  <style>\n",
              "    .colab-df-container {\n",
              "      display:flex;\n",
              "      flex-wrap:wrap;\n",
              "      gap: 12px;\n",
              "    }\n",
              "\n",
              "    .colab-df-convert {\n",
              "      background-color: #E8F0FE;\n",
              "      border: none;\n",
              "      border-radius: 50%;\n",
              "      cursor: pointer;\n",
              "      display: none;\n",
              "      fill: #1967D2;\n",
              "      height: 32px;\n",
              "      padding: 0 0 0 0;\n",
              "      width: 32px;\n",
              "    }\n",
              "\n",
              "    .colab-df-convert:hover {\n",
              "      background-color: #E2EBFA;\n",
              "      box-shadow: 0px 1px 2px rgba(60, 64, 67, 0.3), 0px 1px 3px 1px rgba(60, 64, 67, 0.15);\n",
              "      fill: #174EA6;\n",
              "    }\n",
              "\n",
              "    [theme=dark] .colab-df-convert {\n",
              "      background-color: #3B4455;\n",
              "      fill: #D2E3FC;\n",
              "    }\n",
              "\n",
              "    [theme=dark] .colab-df-convert:hover {\n",
              "      background-color: #434B5C;\n",
              "      box-shadow: 0px 1px 3px 1px rgba(0, 0, 0, 0.15);\n",
              "      filter: drop-shadow(0px 1px 2px rgba(0, 0, 0, 0.3));\n",
              "      fill: #FFFFFF;\n",
              "    }\n",
              "  </style>\n",
              "\n",
              "      <script>\n",
              "        const buttonEl =\n",
              "          document.querySelector('#df-3e6dd5a6-1cd9-4983-a863-17872569028a button.colab-df-convert');\n",
              "        buttonEl.style.display =\n",
              "          google.colab.kernel.accessAllowed ? 'block' : 'none';\n",
              "\n",
              "        async function convertToInteractive(key) {\n",
              "          const element = document.querySelector('#df-3e6dd5a6-1cd9-4983-a863-17872569028a');\n",
              "          const dataTable =\n",
              "            await google.colab.kernel.invokeFunction('convertToInteractive',\n",
              "                                                     [key], {});\n",
              "          if (!dataTable) return;\n",
              "\n",
              "          const docLinkHtml = 'Like what you see? Visit the ' +\n",
              "            '<a target=\"_blank\" href=https://colab.research.google.com/notebooks/data_table.ipynb>data table notebook</a>'\n",
              "            + ' to learn more about interactive tables.';\n",
              "          element.innerHTML = '';\n",
              "          dataTable['output_type'] = 'display_data';\n",
              "          await google.colab.output.renderOutput(dataTable, element);\n",
              "          const docLink = document.createElement('div');\n",
              "          docLink.innerHTML = docLinkHtml;\n",
              "          element.appendChild(docLink);\n",
              "        }\n",
              "      </script>\n",
              "    </div>\n",
              "  </div>\n",
              "  "
            ]
          },
          "metadata": {},
          "execution_count": 9
        }
      ]
    },
    {
      "cell_type": "code",
      "source": [
        "df['text'] = df['text'].astype(str)"
      ],
      "metadata": {
        "id": "aKMt7dfT364g"
      },
      "execution_count": null,
      "outputs": []
    },
    {
      "cell_type": "code",
      "source": [
        "df.isnull().sum()"
      ],
      "metadata": {
        "id": "wFM_mU9XLKbF",
        "colab": {
          "base_uri": "https://localhost:8080/"
        },
        "outputId": "a97d540c-9452-4b7b-f5b8-4ef78c520e0f"
      },
      "execution_count": null,
      "outputs": [
        {
          "output_type": "execute_result",
          "data": {
            "text/plain": [
              "screen name    0\n",
              "likes          0\n",
              "retweets       0\n",
              "date           0\n",
              "verified       0\n",
              "URL            0\n",
              "text           0\n",
              "dtype: int64"
            ]
          },
          "metadata": {},
          "execution_count": 11
        }
      ]
    },
    {
      "cell_type": "markdown",
      "source": [
        "#Section 3: The New Data Set\n",
        "\n",
        "Here we have created a new data set that includes the sentiment score and compound results. We believe it will be more efficient to calculate the score as the data set updates with new data, rather than re-run the new_getTweets program and calculate the columns there. We will use these new columns with our analysis. "
      ],
      "metadata": {
        "id": "vHBCrm16UvM1"
      }
    },
    {
      "cell_type": "code",
      "source": [
        "new_df = df"
      ],
      "metadata": {
        "id": "4psKyE7k5-Xh"
      },
      "execution_count": null,
      "outputs": []
    },
    {
      "cell_type": "markdown",
      "metadata": {
        "id": "ARWC_guHBe32"
      },
      "source": [
        "Tokenization means that we are separating each word in the tweet into single words to be used"
      ]
    },
    {
      "cell_type": "code",
      "execution_count": null,
      "metadata": {
        "id": "_BzkGeWuBe33"
      },
      "outputs": [],
      "source": [
        "tknzr = TweetTokenizer(strip_handles=True, reduce_len=True)\n",
        "new_df.text = [tknzr.tokenize(tweets) for tweets in new_df.text]"
      ]
    },
    {
      "cell_type": "code",
      "execution_count": null,
      "metadata": {
        "id": "6cftrVfnBe34",
        "colab": {
          "base_uri": "https://localhost:8080/"
        },
        "outputId": "8739cb6f-481c-4235-ece5-db401749e952"
      },
      "outputs": [
        {
          "output_type": "stream",
          "name": "stdout",
          "text": [
            "[['PFAS', 'Neonicotinoids', 'On', '6', '15', 'Congressional', 'hearing', 'on', 'SerestoFleaCollars', 'linked', 'to', 'more', 'than', '2', '500', 'pet', 'death', 's', 'Nathan', 'Donley', 'will', 'testify', 'on', 'how', 'the', 'EPA', 'ha', 'failed', 'to', 'take', 'action', 'amp', 'read', 'this', 'via'], ['Our', 'lab', 'is', 'officially', 'on', 'the', 'way', 'to', 'Wilmington', 'Excited', 'to', 'see', 'so', 'many', 'folk', 'in', 'one', 'place', 'to', 'talk', 'PFAS'], ['Forever', 'Chemicals', 'Linked', 'to', 'Heart', 'Risks', 'MedicineNet', 'Health', 'News'], ['A', '3M', 'factory', 'spewed', 'forever', 'chemical', 'for', 'decade', 'polluting', 'the', 'land', 'water', 'and', 'people', 'living', 'near', 'it', 'Now', 'a', 'fight', 'is', 'unfolding', 'over', 'how', 'to', 'clean', 'up', 'the', 'toxic', 'mess', 'There', 'wa', 'a', 'significant', 'amount', 'of', 'deception', 'going', 'on', 'here', 'with', 'MMM', 'Really', 'ugly'], ['A', 'study', 'estimated', 'that', 'two', 'of', 'the', 'most', 'common', 'forever', 'chemical', 'are', 'found', 'in', 'most', 'household', 'drinking', 'water', 'and', 'are', 'consumed', 'by', 'more', 'than', 'two', 'third', 'of', 'Americans', 'Reduce', 'PFAS', 'with', 'the', 'Micromax', '8500', 'RO', 'system', 'greatwatergreatlife', 'cleanwater'], ['Please', 'standby', 'Navigating', 'the', 'PFAS', 'Investigation', 'Process', 'and', 'Developing', 'Remedial', 'Alternatives', 'is', 'about', 'to', 'start', 'in', '30', 'minute', 'The', 'course', 'presenter', 'Erin', 'Palko', 'Keith', 'Brodock', 'Michael', 'Martin', 'We', 'll', 'wait', 'for', 'you', 'there', 'environmentaljustice', 'development', 'pfas', 'duediligence'], ['Forever', 'chemical', 'linked', 'to', 'high', 'blood', 'pressure', 'in', 'middle', 'aged', 'woman', 'study'], ['Forever', 'chemical', 'in', 'drinking', 'water', 'linked', 'to', 'high', 'blood', 'pressure', 'risk', 'study', 'of', 'middle', 'aged', 'woman', 'find', 'A', 'serious', 'problem'], ['Forever', 'chemical', 'linked', 'to', 'high', 'blood', 'pressure', 'in', 'middle', 'aged', 'woman', 'study', 'via'], ['May', 'PFAS', 'result', 'announced']]\n"
          ]
        }
      ],
      "source": [
        "le = WordNetLemmatizer()\n",
        "lemma_text = []\n",
        "for index in range(len(df.text)):\n",
        "    tweet = [le.lemmatize(word,pos = \"n\") for word in new_df.text[index]]\n",
        "    lemma_text.append(tweet)\n",
        "\n",
        "print(lemma_text[0:10])\n"
      ]
    },
    {
      "cell_type": "code",
      "execution_count": null,
      "metadata": {
        "id": "8CancxvyBe35"
      },
      "outputs": [],
      "source": [
        "stop = set(stopwords.words('english'))\n",
        "all_stop =['https', 'say','a','A','b','B']\n",
        "tokens_without_sw =[]\n",
        "for index in range (len(lemma_text)):\n",
        "  tokens = [word for word in lemma_text[index] if not word in stop]\n",
        "  tokens_without_sw.append(tokens)"
      ]
    },
    {
      "cell_type": "code",
      "execution_count": null,
      "metadata": {
        "id": "QpQAPbL2Be35"
      },
      "outputs": [],
      "source": [
        "tokens_without_all_stop =[]\n",
        "for index in range (len(tokens_without_sw)):\n",
        "  tokens = [word for word in tokens_without_sw[index] if not word in all_stop]\n",
        "  tokens_without_all_stop.append(tokens)"
      ]
    },
    {
      "cell_type": "code",
      "execution_count": null,
      "metadata": {
        "id": "smSuLo3SBe36",
        "colab": {
          "base_uri": "https://localhost:8080/"
        },
        "outputId": "ea62b62c-c31f-41a0-a805-fa8d4db23ac2"
      },
      "outputs": [
        {
          "output_type": "execute_result",
          "data": {
            "text/plain": [
              "[['PFAS',\n",
              "  'Neonicotinoids',\n",
              "  'On',\n",
              "  '6',\n",
              "  '15',\n",
              "  'Congressional',\n",
              "  'hearing',\n",
              "  'SerestoFleaCollars',\n",
              "  'linked',\n",
              "  '2',\n",
              "  '500',\n",
              "  'pet',\n",
              "  'death',\n",
              "  'Nathan',\n",
              "  'Donley',\n",
              "  'testify',\n",
              "  'EPA',\n",
              "  'ha',\n",
              "  'failed',\n",
              "  'take',\n",
              "  'action',\n",
              "  'amp',\n",
              "  'read',\n",
              "  'via']]"
            ]
          },
          "metadata": {},
          "execution_count": 17
        }
      ],
      "source": [
        "tokens_without_all_stop[:1]"
      ]
    },
    {
      "cell_type": "code",
      "execution_count": null,
      "metadata": {
        "id": "q9dvKzd3Be37",
        "colab": {
          "base_uri": "https://localhost:8080/"
        },
        "outputId": "63e31aa7-e435-4ffc-ca43-7d873af757f4"
      },
      "outputs": [
        {
          "output_type": "execute_result",
          "data": {
            "text/plain": [
              "['PFAS',\n",
              " 'Neonicotinoids',\n",
              " 'Congressional',\n",
              " 'hearing',\n",
              " 'SerestoFleaCollars',\n",
              " 'linked',\n",
              " 'death',\n",
              " 'Nathan',\n",
              " 'Donley',\n",
              " 'testify',\n",
              " 'failed',\n",
              " 'take',\n",
              " 'action',\n",
              " 'read']"
            ]
          },
          "metadata": {},
          "execution_count": 18
        }
      ],
      "source": [
        "tokens_filtered =[]\n",
        "for index in range (len(tokens_without_all_stop)):\n",
        "  tokens = [token  for token in tokens_without_all_stop[index] if len(token)>3]\n",
        "  tokens_filtered.append(tokens)\n",
        "tokens_filtered[0]"
      ]
    },
    {
      "cell_type": "code",
      "execution_count": null,
      "metadata": {
        "id": "4T5Y3BeXBe37"
      },
      "outputs": [],
      "source": [
        "for i in range(len(tokens_filtered)):\n",
        "    tokens_filtered[i] = ' '.join(tokens_filtered[i])\n",
        "new_df['text'] = tokens_filtered"
      ]
    },
    {
      "cell_type": "code",
      "execution_count": null,
      "metadata": {
        "id": "rrBaUK6DBe38"
      },
      "outputs": [],
      "source": [
        "sia = SentimentIntensityAnalyzer()"
      ]
    },
    {
      "cell_type": "code",
      "source": [
        "new_df['sentiment'] = new_df['text'].apply(lambda tweet:sia.polarity_scores(tweet))\n",
        "new_df['sentiment'][0:10]\n",
        "new_df['compound'] = new_df['sentiment'].apply(lambda x:x['compound'])\n",
        "new_df['compound_result'] = new_df['compound'].apply(lambda score: 'pos' if score > 0 else ('neg' if score < 0 else 'neu'))\n",
        "new_df = new_df[['screen name', 'sentiment', 'compound', 'compound_result', 'likes','retweets','date','verified','URL','text']]\n",
        "new_df"
      ],
      "metadata": {
        "colab": {
          "base_uri": "https://localhost:8080/",
          "height": 815
        },
        "id": "vS0A7AVNKMP5",
        "outputId": "4a3e1ca9-136f-4b30-a3a6-44f33045673e"
      },
      "execution_count": null,
      "outputs": [
        {
          "output_type": "execute_result",
          "data": {
            "text/plain": [
              "         screen name                                          sentiment  \\\n",
              "0      imendangerous  {'neg': 0.375, 'neu': 0.625, 'pos': 0.0, 'comp...   \n",
              "1          drake_phd  {'neg': 0.0, 'neu': 0.745, 'pos': 0.255, 'comp...   \n",
              "2    Shirley33594843  {'neg': 0.231, 'neu': 0.769, 'pos': 0.0, 'comp...   \n",
              "3          AlephBlog  {'neg': 0.35, 'neu': 0.514, 'pos': 0.136, 'com...   \n",
              "4           puronics  {'neg': 0.0, 'neu': 1.0, 'pos': 0.0, 'compound...   \n",
              "..               ...                                                ...   \n",
              "995     RobertBilott  {'neg': 0.241, 'neu': 0.759, 'pos': 0.0, 'comp...   \n",
              "996   McclainPadgett  {'neg': 0.167, 'neu': 0.833, 'pos': 0.0, 'comp...   \n",
              "997   McclainPadgett  {'neg': 0.167, 'neu': 0.833, 'pos': 0.0, 'comp...   \n",
              "998          xethorn  {'neg': 0.0, 'neu': 1.0, 'pos': 0.0, 'compound...   \n",
              "999         abescarr  {'neg': 0.153, 'neu': 0.612, 'pos': 0.235, 'co...   \n",
              "\n",
              "     compound compound_result  likes  retweets                 date  verified  \\\n",
              "0     -0.8020             neg      0         0  2022-06-14 18:24:26     False   \n",
              "1      0.3400             pos      0         0  2022-06-14 18:21:50     False   \n",
              "2     -0.2732             neg      0         0  2022-06-14 18:21:17     False   \n",
              "3     -0.7960             neg      1         1  2022-06-14 18:18:32     False   \n",
              "4      0.0000             neu      0         1  2022-06-14 18:16:13     False   \n",
              "..        ...             ...    ...       ...                  ...       ...   \n",
              "995   -0.6597             neg     35        13  2022-08-01 12:58:13     False   \n",
              "996   -0.5267             neg      1         1  2022-08-01 12:49:47     False   \n",
              "997   -0.5267             neg      0         0  2022-08-01 12:49:05     False   \n",
              "998    0.0000             neu      0         0  2022-08-01 12:44:43     False   \n",
              "999    0.2023             pos      5         1  2022-08-01 12:43:03     False   \n",
              "\n",
              "                                                   URL  \\\n",
              "0    https://twitter.com/imendangerous/status/15367...   \n",
              "1    https://twitter.com/drake_phd/status/153677593...   \n",
              "2    https://twitter.com/Shirley33594843/status/153...   \n",
              "3    https://twitter.com/AlephBlog/status/153677511...   \n",
              "4    https://twitter.com/puronics/status/1536774527...   \n",
              "..                                                 ...   \n",
              "995  https://twitter.com/RobertBilott/status/155408...   \n",
              "996  https://twitter.com/McclainPadgett/status/1554...   \n",
              "997  https://twitter.com/McclainPadgett/status/1554...   \n",
              "998  https://twitter.com/xethorn/status/15540857197...   \n",
              "999  https://twitter.com/abescarr/status/1554085300...   \n",
              "\n",
              "                                                  text  \n",
              "0    PFAS Neonicotinoids Congressional hearing Sere...  \n",
              "1    officially Wilmington Excited many folk place ...  \n",
              "2    Forever Chemicals Linked Heart Risks MedicineN...  \n",
              "3    factory spewed forever chemical decade polluti...  \n",
              "4    study estimated common forever chemical found ...  \n",
              "..                                                 ...  \n",
              "995  Beyond shameful took decade finally take step ...  \n",
              "996  Vote VoteNo PACTAct Veteran BurnPit ToxicExpos...  \n",
              "997  Vote VoteNo PACTAct Veteran BurnPit ToxicExpos...  \n",
              "998  Most manufacturer water source Wondering long ...  \n",
              "999  Demand legislation protects drinking water tox...  \n",
              "\n",
              "[1000 rows x 10 columns]"
            ],
            "text/html": [
              "\n",
              "  <div id=\"df-c950c505-fcd9-45cb-953c-13c4d2200b19\">\n",
              "    <div class=\"colab-df-container\">\n",
              "      <div>\n",
              "<style scoped>\n",
              "    .dataframe tbody tr th:only-of-type {\n",
              "        vertical-align: middle;\n",
              "    }\n",
              "\n",
              "    .dataframe tbody tr th {\n",
              "        vertical-align: top;\n",
              "    }\n",
              "\n",
              "    .dataframe thead th {\n",
              "        text-align: right;\n",
              "    }\n",
              "</style>\n",
              "<table border=\"1\" class=\"dataframe\">\n",
              "  <thead>\n",
              "    <tr style=\"text-align: right;\">\n",
              "      <th></th>\n",
              "      <th>screen name</th>\n",
              "      <th>sentiment</th>\n",
              "      <th>compound</th>\n",
              "      <th>compound_result</th>\n",
              "      <th>likes</th>\n",
              "      <th>retweets</th>\n",
              "      <th>date</th>\n",
              "      <th>verified</th>\n",
              "      <th>URL</th>\n",
              "      <th>text</th>\n",
              "    </tr>\n",
              "  </thead>\n",
              "  <tbody>\n",
              "    <tr>\n",
              "      <th>0</th>\n",
              "      <td>imendangerous</td>\n",
              "      <td>{'neg': 0.375, 'neu': 0.625, 'pos': 0.0, 'comp...</td>\n",
              "      <td>-0.8020</td>\n",
              "      <td>neg</td>\n",
              "      <td>0</td>\n",
              "      <td>0</td>\n",
              "      <td>2022-06-14 18:24:26</td>\n",
              "      <td>False</td>\n",
              "      <td>https://twitter.com/imendangerous/status/15367...</td>\n",
              "      <td>PFAS Neonicotinoids Congressional hearing Sere...</td>\n",
              "    </tr>\n",
              "    <tr>\n",
              "      <th>1</th>\n",
              "      <td>drake_phd</td>\n",
              "      <td>{'neg': 0.0, 'neu': 0.745, 'pos': 0.255, 'comp...</td>\n",
              "      <td>0.3400</td>\n",
              "      <td>pos</td>\n",
              "      <td>0</td>\n",
              "      <td>0</td>\n",
              "      <td>2022-06-14 18:21:50</td>\n",
              "      <td>False</td>\n",
              "      <td>https://twitter.com/drake_phd/status/153677593...</td>\n",
              "      <td>officially Wilmington Excited many folk place ...</td>\n",
              "    </tr>\n",
              "    <tr>\n",
              "      <th>2</th>\n",
              "      <td>Shirley33594843</td>\n",
              "      <td>{'neg': 0.231, 'neu': 0.769, 'pos': 0.0, 'comp...</td>\n",
              "      <td>-0.2732</td>\n",
              "      <td>neg</td>\n",
              "      <td>0</td>\n",
              "      <td>0</td>\n",
              "      <td>2022-06-14 18:21:17</td>\n",
              "      <td>False</td>\n",
              "      <td>https://twitter.com/Shirley33594843/status/153...</td>\n",
              "      <td>Forever Chemicals Linked Heart Risks MedicineN...</td>\n",
              "    </tr>\n",
              "    <tr>\n",
              "      <th>3</th>\n",
              "      <td>AlephBlog</td>\n",
              "      <td>{'neg': 0.35, 'neu': 0.514, 'pos': 0.136, 'com...</td>\n",
              "      <td>-0.7960</td>\n",
              "      <td>neg</td>\n",
              "      <td>1</td>\n",
              "      <td>1</td>\n",
              "      <td>2022-06-14 18:18:32</td>\n",
              "      <td>False</td>\n",
              "      <td>https://twitter.com/AlephBlog/status/153677511...</td>\n",
              "      <td>factory spewed forever chemical decade polluti...</td>\n",
              "    </tr>\n",
              "    <tr>\n",
              "      <th>4</th>\n",
              "      <td>puronics</td>\n",
              "      <td>{'neg': 0.0, 'neu': 1.0, 'pos': 0.0, 'compound...</td>\n",
              "      <td>0.0000</td>\n",
              "      <td>neu</td>\n",
              "      <td>0</td>\n",
              "      <td>1</td>\n",
              "      <td>2022-06-14 18:16:13</td>\n",
              "      <td>False</td>\n",
              "      <td>https://twitter.com/puronics/status/1536774527...</td>\n",
              "      <td>study estimated common forever chemical found ...</td>\n",
              "    </tr>\n",
              "    <tr>\n",
              "      <th>...</th>\n",
              "      <td>...</td>\n",
              "      <td>...</td>\n",
              "      <td>...</td>\n",
              "      <td>...</td>\n",
              "      <td>...</td>\n",
              "      <td>...</td>\n",
              "      <td>...</td>\n",
              "      <td>...</td>\n",
              "      <td>...</td>\n",
              "      <td>...</td>\n",
              "    </tr>\n",
              "    <tr>\n",
              "      <th>995</th>\n",
              "      <td>RobertBilott</td>\n",
              "      <td>{'neg': 0.241, 'neu': 0.759, 'pos': 0.0, 'comp...</td>\n",
              "      <td>-0.6597</td>\n",
              "      <td>neg</td>\n",
              "      <td>35</td>\n",
              "      <td>13</td>\n",
              "      <td>2022-08-01 12:58:13</td>\n",
              "      <td>False</td>\n",
              "      <td>https://twitter.com/RobertBilott/status/155408...</td>\n",
              "      <td>Beyond shameful took decade finally take step ...</td>\n",
              "    </tr>\n",
              "    <tr>\n",
              "      <th>996</th>\n",
              "      <td>McclainPadgett</td>\n",
              "      <td>{'neg': 0.167, 'neu': 0.833, 'pos': 0.0, 'comp...</td>\n",
              "      <td>-0.5267</td>\n",
              "      <td>neg</td>\n",
              "      <td>1</td>\n",
              "      <td>1</td>\n",
              "      <td>2022-08-01 12:49:47</td>\n",
              "      <td>False</td>\n",
              "      <td>https://twitter.com/McclainPadgett/status/1554...</td>\n",
              "      <td>Vote VoteNo PACTAct Veteran BurnPit ToxicExpos...</td>\n",
              "    </tr>\n",
              "    <tr>\n",
              "      <th>997</th>\n",
              "      <td>McclainPadgett</td>\n",
              "      <td>{'neg': 0.167, 'neu': 0.833, 'pos': 0.0, 'comp...</td>\n",
              "      <td>-0.5267</td>\n",
              "      <td>neg</td>\n",
              "      <td>0</td>\n",
              "      <td>0</td>\n",
              "      <td>2022-08-01 12:49:05</td>\n",
              "      <td>False</td>\n",
              "      <td>https://twitter.com/McclainPadgett/status/1554...</td>\n",
              "      <td>Vote VoteNo PACTAct Veteran BurnPit ToxicExpos...</td>\n",
              "    </tr>\n",
              "    <tr>\n",
              "      <th>998</th>\n",
              "      <td>xethorn</td>\n",
              "      <td>{'neg': 0.0, 'neu': 1.0, 'pos': 0.0, 'compound...</td>\n",
              "      <td>0.0000</td>\n",
              "      <td>neu</td>\n",
              "      <td>0</td>\n",
              "      <td>0</td>\n",
              "      <td>2022-08-01 12:44:43</td>\n",
              "      <td>False</td>\n",
              "      <td>https://twitter.com/xethorn/status/15540857197...</td>\n",
              "      <td>Most manufacturer water source Wondering long ...</td>\n",
              "    </tr>\n",
              "    <tr>\n",
              "      <th>999</th>\n",
              "      <td>abescarr</td>\n",
              "      <td>{'neg': 0.153, 'neu': 0.612, 'pos': 0.235, 'co...</td>\n",
              "      <td>0.2023</td>\n",
              "      <td>pos</td>\n",
              "      <td>5</td>\n",
              "      <td>1</td>\n",
              "      <td>2022-08-01 12:43:03</td>\n",
              "      <td>False</td>\n",
              "      <td>https://twitter.com/abescarr/status/1554085300...</td>\n",
              "      <td>Demand legislation protects drinking water tox...</td>\n",
              "    </tr>\n",
              "  </tbody>\n",
              "</table>\n",
              "<p>1000 rows × 10 columns</p>\n",
              "</div>\n",
              "      <button class=\"colab-df-convert\" onclick=\"convertToInteractive('df-c950c505-fcd9-45cb-953c-13c4d2200b19')\"\n",
              "              title=\"Convert this dataframe to an interactive table.\"\n",
              "              style=\"display:none;\">\n",
              "        \n",
              "  <svg xmlns=\"http://www.w3.org/2000/svg\" height=\"24px\"viewBox=\"0 0 24 24\"\n",
              "       width=\"24px\">\n",
              "    <path d=\"M0 0h24v24H0V0z\" fill=\"none\"/>\n",
              "    <path d=\"M18.56 5.44l.94 2.06.94-2.06 2.06-.94-2.06-.94-.94-2.06-.94 2.06-2.06.94zm-11 1L8.5 8.5l.94-2.06 2.06-.94-2.06-.94L8.5 2.5l-.94 2.06-2.06.94zm10 10l.94 2.06.94-2.06 2.06-.94-2.06-.94-.94-2.06-.94 2.06-2.06.94z\"/><path d=\"M17.41 7.96l-1.37-1.37c-.4-.4-.92-.59-1.43-.59-.52 0-1.04.2-1.43.59L10.3 9.45l-7.72 7.72c-.78.78-.78 2.05 0 2.83L4 21.41c.39.39.9.59 1.41.59.51 0 1.02-.2 1.41-.59l7.78-7.78 2.81-2.81c.8-.78.8-2.07 0-2.86zM5.41 20L4 18.59l7.72-7.72 1.47 1.35L5.41 20z\"/>\n",
              "  </svg>\n",
              "      </button>\n",
              "      \n",
              "  <style>\n",
              "    .colab-df-container {\n",
              "      display:flex;\n",
              "      flex-wrap:wrap;\n",
              "      gap: 12px;\n",
              "    }\n",
              "\n",
              "    .colab-df-convert {\n",
              "      background-color: #E8F0FE;\n",
              "      border: none;\n",
              "      border-radius: 50%;\n",
              "      cursor: pointer;\n",
              "      display: none;\n",
              "      fill: #1967D2;\n",
              "      height: 32px;\n",
              "      padding: 0 0 0 0;\n",
              "      width: 32px;\n",
              "    }\n",
              "\n",
              "    .colab-df-convert:hover {\n",
              "      background-color: #E2EBFA;\n",
              "      box-shadow: 0px 1px 2px rgba(60, 64, 67, 0.3), 0px 1px 3px 1px rgba(60, 64, 67, 0.15);\n",
              "      fill: #174EA6;\n",
              "    }\n",
              "\n",
              "    [theme=dark] .colab-df-convert {\n",
              "      background-color: #3B4455;\n",
              "      fill: #D2E3FC;\n",
              "    }\n",
              "\n",
              "    [theme=dark] .colab-df-convert:hover {\n",
              "      background-color: #434B5C;\n",
              "      box-shadow: 0px 1px 3px 1px rgba(0, 0, 0, 0.15);\n",
              "      filter: drop-shadow(0px 1px 2px rgba(0, 0, 0, 0.3));\n",
              "      fill: #FFFFFF;\n",
              "    }\n",
              "  </style>\n",
              "\n",
              "      <script>\n",
              "        const buttonEl =\n",
              "          document.querySelector('#df-c950c505-fcd9-45cb-953c-13c4d2200b19 button.colab-df-convert');\n",
              "        buttonEl.style.display =\n",
              "          google.colab.kernel.accessAllowed ? 'block' : 'none';\n",
              "\n",
              "        async function convertToInteractive(key) {\n",
              "          const element = document.querySelector('#df-c950c505-fcd9-45cb-953c-13c4d2200b19');\n",
              "          const dataTable =\n",
              "            await google.colab.kernel.invokeFunction('convertToInteractive',\n",
              "                                                     [key], {});\n",
              "          if (!dataTable) return;\n",
              "\n",
              "          const docLinkHtml = 'Like what you see? Visit the ' +\n",
              "            '<a target=\"_blank\" href=https://colab.research.google.com/notebooks/data_table.ipynb>data table notebook</a>'\n",
              "            + ' to learn more about interactive tables.';\n",
              "          element.innerHTML = '';\n",
              "          dataTable['output_type'] = 'display_data';\n",
              "          await google.colab.output.renderOutput(dataTable, element);\n",
              "          const docLink = document.createElement('div');\n",
              "          docLink.innerHTML = docLinkHtml;\n",
              "          element.appendChild(docLink);\n",
              "        }\n",
              "      </script>\n",
              "    </div>\n",
              "  </div>\n",
              "  "
            ]
          },
          "metadata": {},
          "execution_count": 21
        }
      ]
    },
    {
      "cell_type": "markdown",
      "source": [
        "*Note: Included in this new data set (new_df), there is an additional column called total words. This column is a count of the total number of words in the text column."
      ],
      "metadata": {
        "id": "1jeD_1mtVVay"
      }
    },
    {
      "cell_type": "code",
      "source": [
        "#Total number of words column\n",
        "new_df['totalwords'] = [len(x.split()) for x in new_df['text'].tolist()]"
      ],
      "metadata": {
        "id": "0-kZFA6PBI2_",
        "colab": {
          "base_uri": "https://localhost:8080/"
        },
        "outputId": "5abe3956-4149-4e45-9dd7-0e3e09060a4f"
      },
      "execution_count": null,
      "outputs": [
        {
          "output_type": "stream",
          "name": "stderr",
          "text": [
            "/usr/local/lib/python3.7/dist-packages/ipykernel_launcher.py:2: SettingWithCopyWarning: \n",
            "A value is trying to be set on a copy of a slice from a DataFrame.\n",
            "Try using .loc[row_indexer,col_indexer] = value instead\n",
            "\n",
            "See the caveats in the documentation: https://pandas.pydata.org/pandas-docs/stable/user_guide/indexing.html#returning-a-view-versus-a-copy\n",
            "  \n"
          ]
        }
      ]
    },
    {
      "cell_type": "code",
      "source": [
        "new_df.head()"
      ],
      "metadata": {
        "id": "gEA2ZAwZ62zw",
        "colab": {
          "base_uri": "https://localhost:8080/",
          "height": 511
        },
        "outputId": "1601978d-54c5-41fd-ed5e-37c75e04459d"
      },
      "execution_count": null,
      "outputs": [
        {
          "output_type": "execute_result",
          "data": {
            "text/plain": [
              "       screen name                                          sentiment  \\\n",
              "0    imendangerous  {'neg': 0.375, 'neu': 0.625, 'pos': 0.0, 'comp...   \n",
              "1        drake_phd  {'neg': 0.0, 'neu': 0.745, 'pos': 0.255, 'comp...   \n",
              "2  Shirley33594843  {'neg': 0.231, 'neu': 0.769, 'pos': 0.0, 'comp...   \n",
              "3        AlephBlog  {'neg': 0.35, 'neu': 0.514, 'pos': 0.136, 'com...   \n",
              "4         puronics  {'neg': 0.0, 'neu': 1.0, 'pos': 0.0, 'compound...   \n",
              "\n",
              "   compound compound_result  likes  retweets                 date  verified  \\\n",
              "0   -0.8020             neg      0         0  2022-06-14 18:24:26     False   \n",
              "1    0.3400             pos      0         0  2022-06-14 18:21:50     False   \n",
              "2   -0.2732             neg      0         0  2022-06-14 18:21:17     False   \n",
              "3   -0.7960             neg      1         1  2022-06-14 18:18:32     False   \n",
              "4    0.0000             neu      0         1  2022-06-14 18:16:13     False   \n",
              "\n",
              "                                                 URL  \\\n",
              "0  https://twitter.com/imendangerous/status/15367...   \n",
              "1  https://twitter.com/drake_phd/status/153677593...   \n",
              "2  https://twitter.com/Shirley33594843/status/153...   \n",
              "3  https://twitter.com/AlephBlog/status/153677511...   \n",
              "4  https://twitter.com/puronics/status/1536774527...   \n",
              "\n",
              "                                                text  totalwords  \n",
              "0  PFAS Neonicotinoids Congressional hearing Sere...          14  \n",
              "1  officially Wilmington Excited many folk place ...           8  \n",
              "2  Forever Chemicals Linked Heart Risks MedicineN...           8  \n",
              "3  factory spewed forever chemical decade polluti...          23  \n",
              "4  study estimated common forever chemical found ...          19  "
            ],
            "text/html": [
              "\n",
              "  <div id=\"df-99124896-54af-46ba-9b99-fe1728ea0793\">\n",
              "    <div class=\"colab-df-container\">\n",
              "      <div>\n",
              "<style scoped>\n",
              "    .dataframe tbody tr th:only-of-type {\n",
              "        vertical-align: middle;\n",
              "    }\n",
              "\n",
              "    .dataframe tbody tr th {\n",
              "        vertical-align: top;\n",
              "    }\n",
              "\n",
              "    .dataframe thead th {\n",
              "        text-align: right;\n",
              "    }\n",
              "</style>\n",
              "<table border=\"1\" class=\"dataframe\">\n",
              "  <thead>\n",
              "    <tr style=\"text-align: right;\">\n",
              "      <th></th>\n",
              "      <th>screen name</th>\n",
              "      <th>sentiment</th>\n",
              "      <th>compound</th>\n",
              "      <th>compound_result</th>\n",
              "      <th>likes</th>\n",
              "      <th>retweets</th>\n",
              "      <th>date</th>\n",
              "      <th>verified</th>\n",
              "      <th>URL</th>\n",
              "      <th>text</th>\n",
              "      <th>totalwords</th>\n",
              "    </tr>\n",
              "  </thead>\n",
              "  <tbody>\n",
              "    <tr>\n",
              "      <th>0</th>\n",
              "      <td>imendangerous</td>\n",
              "      <td>{'neg': 0.375, 'neu': 0.625, 'pos': 0.0, 'comp...</td>\n",
              "      <td>-0.8020</td>\n",
              "      <td>neg</td>\n",
              "      <td>0</td>\n",
              "      <td>0</td>\n",
              "      <td>2022-06-14 18:24:26</td>\n",
              "      <td>False</td>\n",
              "      <td>https://twitter.com/imendangerous/status/15367...</td>\n",
              "      <td>PFAS Neonicotinoids Congressional hearing Sere...</td>\n",
              "      <td>14</td>\n",
              "    </tr>\n",
              "    <tr>\n",
              "      <th>1</th>\n",
              "      <td>drake_phd</td>\n",
              "      <td>{'neg': 0.0, 'neu': 0.745, 'pos': 0.255, 'comp...</td>\n",
              "      <td>0.3400</td>\n",
              "      <td>pos</td>\n",
              "      <td>0</td>\n",
              "      <td>0</td>\n",
              "      <td>2022-06-14 18:21:50</td>\n",
              "      <td>False</td>\n",
              "      <td>https://twitter.com/drake_phd/status/153677593...</td>\n",
              "      <td>officially Wilmington Excited many folk place ...</td>\n",
              "      <td>8</td>\n",
              "    </tr>\n",
              "    <tr>\n",
              "      <th>2</th>\n",
              "      <td>Shirley33594843</td>\n",
              "      <td>{'neg': 0.231, 'neu': 0.769, 'pos': 0.0, 'comp...</td>\n",
              "      <td>-0.2732</td>\n",
              "      <td>neg</td>\n",
              "      <td>0</td>\n",
              "      <td>0</td>\n",
              "      <td>2022-06-14 18:21:17</td>\n",
              "      <td>False</td>\n",
              "      <td>https://twitter.com/Shirley33594843/status/153...</td>\n",
              "      <td>Forever Chemicals Linked Heart Risks MedicineN...</td>\n",
              "      <td>8</td>\n",
              "    </tr>\n",
              "    <tr>\n",
              "      <th>3</th>\n",
              "      <td>AlephBlog</td>\n",
              "      <td>{'neg': 0.35, 'neu': 0.514, 'pos': 0.136, 'com...</td>\n",
              "      <td>-0.7960</td>\n",
              "      <td>neg</td>\n",
              "      <td>1</td>\n",
              "      <td>1</td>\n",
              "      <td>2022-06-14 18:18:32</td>\n",
              "      <td>False</td>\n",
              "      <td>https://twitter.com/AlephBlog/status/153677511...</td>\n",
              "      <td>factory spewed forever chemical decade polluti...</td>\n",
              "      <td>23</td>\n",
              "    </tr>\n",
              "    <tr>\n",
              "      <th>4</th>\n",
              "      <td>puronics</td>\n",
              "      <td>{'neg': 0.0, 'neu': 1.0, 'pos': 0.0, 'compound...</td>\n",
              "      <td>0.0000</td>\n",
              "      <td>neu</td>\n",
              "      <td>0</td>\n",
              "      <td>1</td>\n",
              "      <td>2022-06-14 18:16:13</td>\n",
              "      <td>False</td>\n",
              "      <td>https://twitter.com/puronics/status/1536774527...</td>\n",
              "      <td>study estimated common forever chemical found ...</td>\n",
              "      <td>19</td>\n",
              "    </tr>\n",
              "  </tbody>\n",
              "</table>\n",
              "</div>\n",
              "      <button class=\"colab-df-convert\" onclick=\"convertToInteractive('df-99124896-54af-46ba-9b99-fe1728ea0793')\"\n",
              "              title=\"Convert this dataframe to an interactive table.\"\n",
              "              style=\"display:none;\">\n",
              "        \n",
              "  <svg xmlns=\"http://www.w3.org/2000/svg\" height=\"24px\"viewBox=\"0 0 24 24\"\n",
              "       width=\"24px\">\n",
              "    <path d=\"M0 0h24v24H0V0z\" fill=\"none\"/>\n",
              "    <path d=\"M18.56 5.44l.94 2.06.94-2.06 2.06-.94-2.06-.94-.94-2.06-.94 2.06-2.06.94zm-11 1L8.5 8.5l.94-2.06 2.06-.94-2.06-.94L8.5 2.5l-.94 2.06-2.06.94zm10 10l.94 2.06.94-2.06 2.06-.94-2.06-.94-.94-2.06-.94 2.06-2.06.94z\"/><path d=\"M17.41 7.96l-1.37-1.37c-.4-.4-.92-.59-1.43-.59-.52 0-1.04.2-1.43.59L10.3 9.45l-7.72 7.72c-.78.78-.78 2.05 0 2.83L4 21.41c.39.39.9.59 1.41.59.51 0 1.02-.2 1.41-.59l7.78-7.78 2.81-2.81c.8-.78.8-2.07 0-2.86zM5.41 20L4 18.59l7.72-7.72 1.47 1.35L5.41 20z\"/>\n",
              "  </svg>\n",
              "      </button>\n",
              "      \n",
              "  <style>\n",
              "    .colab-df-container {\n",
              "      display:flex;\n",
              "      flex-wrap:wrap;\n",
              "      gap: 12px;\n",
              "    }\n",
              "\n",
              "    .colab-df-convert {\n",
              "      background-color: #E8F0FE;\n",
              "      border: none;\n",
              "      border-radius: 50%;\n",
              "      cursor: pointer;\n",
              "      display: none;\n",
              "      fill: #1967D2;\n",
              "      height: 32px;\n",
              "      padding: 0 0 0 0;\n",
              "      width: 32px;\n",
              "    }\n",
              "\n",
              "    .colab-df-convert:hover {\n",
              "      background-color: #E2EBFA;\n",
              "      box-shadow: 0px 1px 2px rgba(60, 64, 67, 0.3), 0px 1px 3px 1px rgba(60, 64, 67, 0.15);\n",
              "      fill: #174EA6;\n",
              "    }\n",
              "\n",
              "    [theme=dark] .colab-df-convert {\n",
              "      background-color: #3B4455;\n",
              "      fill: #D2E3FC;\n",
              "    }\n",
              "\n",
              "    [theme=dark] .colab-df-convert:hover {\n",
              "      background-color: #434B5C;\n",
              "      box-shadow: 0px 1px 3px 1px rgba(0, 0, 0, 0.15);\n",
              "      filter: drop-shadow(0px 1px 2px rgba(0, 0, 0, 0.3));\n",
              "      fill: #FFFFFF;\n",
              "    }\n",
              "  </style>\n",
              "\n",
              "      <script>\n",
              "        const buttonEl =\n",
              "          document.querySelector('#df-99124896-54af-46ba-9b99-fe1728ea0793 button.colab-df-convert');\n",
              "        buttonEl.style.display =\n",
              "          google.colab.kernel.accessAllowed ? 'block' : 'none';\n",
              "\n",
              "        async function convertToInteractive(key) {\n",
              "          const element = document.querySelector('#df-99124896-54af-46ba-9b99-fe1728ea0793');\n",
              "          const dataTable =\n",
              "            await google.colab.kernel.invokeFunction('convertToInteractive',\n",
              "                                                     [key], {});\n",
              "          if (!dataTable) return;\n",
              "\n",
              "          const docLinkHtml = 'Like what you see? Visit the ' +\n",
              "            '<a target=\"_blank\" href=https://colab.research.google.com/notebooks/data_table.ipynb>data table notebook</a>'\n",
              "            + ' to learn more about interactive tables.';\n",
              "          element.innerHTML = '';\n",
              "          dataTable['output_type'] = 'display_data';\n",
              "          await google.colab.output.renderOutput(dataTable, element);\n",
              "          const docLink = document.createElement('div');\n",
              "          docLink.innerHTML = docLinkHtml;\n",
              "          element.appendChild(docLink);\n",
              "        }\n",
              "      </script>\n",
              "    </div>\n",
              "  </div>\n",
              "  "
            ]
          },
          "metadata": {},
          "execution_count": 23
        }
      ]
    },
    {
      "cell_type": "markdown",
      "source": [
        "## A. Cleaning the data set"
      ],
      "metadata": {
        "id": "9nq6ZF0kCLTG"
      }
    },
    {
      "cell_type": "code",
      "source": [
        "#Checking the data types\n",
        "new_df.dtypes"
      ],
      "metadata": {
        "id": "rURo0575TW9x",
        "colab": {
          "base_uri": "https://localhost:8080/"
        },
        "outputId": "a77c6887-eac1-49fd-ee2d-f0f39d4253ec"
      },
      "execution_count": null,
      "outputs": [
        {
          "output_type": "execute_result",
          "data": {
            "text/plain": [
              "screen name         object\n",
              "sentiment           object\n",
              "compound           float64\n",
              "compound_result     object\n",
              "likes                int64\n",
              "retweets             int64\n",
              "date                object\n",
              "verified              bool\n",
              "URL                 object\n",
              "text                object\n",
              "totalwords           int64\n",
              "dtype: object"
            ]
          },
          "metadata": {},
          "execution_count": 24
        }
      ]
    },
    {
      "cell_type": "code",
      "source": [
        "#Checking the counts\n",
        "new_df.count()"
      ],
      "metadata": {
        "id": "IzJV0OxHEiDZ",
        "colab": {
          "base_uri": "https://localhost:8080/"
        },
        "outputId": "32fb53f0-a2c9-4997-e2a6-4c96ef00d919"
      },
      "execution_count": null,
      "outputs": [
        {
          "output_type": "execute_result",
          "data": {
            "text/plain": [
              "screen name        1000\n",
              "sentiment          1000\n",
              "compound           1000\n",
              "compound_result    1000\n",
              "likes              1000\n",
              "retweets           1000\n",
              "date               1000\n",
              "verified           1000\n",
              "URL                1000\n",
              "text               1000\n",
              "totalwords         1000\n",
              "dtype: int64"
            ]
          },
          "metadata": {},
          "execution_count": 25
        }
      ]
    },
    {
      "cell_type": "code",
      "source": [],
      "metadata": {
        "id": "U_IORRr6HuMG"
      },
      "execution_count": null,
      "outputs": []
    },
    {
      "cell_type": "code",
      "source": [
        "#Dropping any missing values\n",
        "new_df = new_df.dropna()"
      ],
      "metadata": {
        "id": "v45zCMPGtjv4"
      },
      "execution_count": null,
      "outputs": []
    },
    {
      "cell_type": "markdown",
      "source": [
        "\n",
        "\n",
        "---\n",
        "\n"
      ],
      "metadata": {
        "id": "QeRUyrIDXZa8"
      }
    },
    {
      "cell_type": "markdown",
      "source": [
        "## B. Exploring the Data Set"
      ],
      "metadata": {
        "id": "9svTQ5ilXaqA"
      }
    },
    {
      "cell_type": "code",
      "source": [
        "new_df.describe(include = 'all')"
      ],
      "metadata": {
        "id": "1EGycnANinRi",
        "colab": {
          "base_uri": "https://localhost:8080/",
          "height": 562
        },
        "outputId": "624fd14e-4647-46b1-f5aa-3691bb6edd0a"
      },
      "execution_count": null,
      "outputs": [
        {
          "output_type": "execute_result",
          "data": {
            "text/plain": [
              "           screen name                                          sentiment  \\\n",
              "count             1000                                               1000   \n",
              "unique             659                                                464   \n",
              "top     katierosenberg  {'neg': 0.0, 'neu': 1.0, 'pos': 0.0, 'compound...   \n",
              "freq                 9                                                293   \n",
              "mean               NaN                                                NaN   \n",
              "std                NaN                                                NaN   \n",
              "min                NaN                                                NaN   \n",
              "25%                NaN                                                NaN   \n",
              "50%                NaN                                                NaN   \n",
              "75%                NaN                                                NaN   \n",
              "max                NaN                                                NaN   \n",
              "\n",
              "           compound compound_result        likes     retweets  \\\n",
              "count   1000.000000            1000  1000.000000  1000.000000   \n",
              "unique          NaN               3          NaN          NaN   \n",
              "top             NaN             neg          NaN          NaN   \n",
              "freq            NaN             360          NaN          NaN   \n",
              "mean      -0.013314             NaN     1.679000     0.494000   \n",
              "std        0.452141             NaN    10.710494     1.775138   \n",
              "min       -0.968500             NaN     0.000000     0.000000   \n",
              "25%       -0.296000             NaN     0.000000     0.000000   \n",
              "50%        0.000000             NaN     0.000000     0.000000   \n",
              "75%        0.296000             NaN     1.000000     0.000000   \n",
              "max        0.931300             NaN   284.000000    30.000000   \n",
              "\n",
              "                       date verified  \\\n",
              "count                  1000     1000   \n",
              "unique                  800        2   \n",
              "top     2022-06-14 16:35:52    False   \n",
              "freq                      4      823   \n",
              "mean                    NaN      NaN   \n",
              "std                     NaN      NaN   \n",
              "min                     NaN      NaN   \n",
              "25%                     NaN      NaN   \n",
              "50%                     NaN      NaN   \n",
              "75%                     NaN      NaN   \n",
              "max                     NaN      NaN   \n",
              "\n",
              "                                                      URL  \\\n",
              "count                                                1000   \n",
              "unique                                                806   \n",
              "top     https://twitter.com/imendangerous/status/15367...   \n",
              "freq                                                    2   \n",
              "mean                                                  NaN   \n",
              "std                                                   NaN   \n",
              "min                                                   NaN   \n",
              "25%                                                   NaN   \n",
              "50%                                                   NaN   \n",
              "75%                                                   NaN   \n",
              "max                                                   NaN   \n",
              "\n",
              "                                                     text   totalwords  \n",
              "count                                                1000  1000.000000  \n",
              "unique                                                668          NaN  \n",
              "top     Forever chemical linked high blood pressure mi...          NaN  \n",
              "freq                                                   36          NaN  \n",
              "mean                                                  NaN    13.563000  \n",
              "std                                                   NaN     6.236259  \n",
              "min                                                   NaN     1.000000  \n",
              "25%                                                   NaN     8.750000  \n",
              "50%                                                   NaN    12.500000  \n",
              "75%                                                   NaN    19.000000  \n",
              "max                                                   NaN    29.000000  "
            ],
            "text/html": [
              "\n",
              "  <div id=\"df-a2d68f09-3698-4c14-9825-de2ebb0720b8\">\n",
              "    <div class=\"colab-df-container\">\n",
              "      <div>\n",
              "<style scoped>\n",
              "    .dataframe tbody tr th:only-of-type {\n",
              "        vertical-align: middle;\n",
              "    }\n",
              "\n",
              "    .dataframe tbody tr th {\n",
              "        vertical-align: top;\n",
              "    }\n",
              "\n",
              "    .dataframe thead th {\n",
              "        text-align: right;\n",
              "    }\n",
              "</style>\n",
              "<table border=\"1\" class=\"dataframe\">\n",
              "  <thead>\n",
              "    <tr style=\"text-align: right;\">\n",
              "      <th></th>\n",
              "      <th>screen name</th>\n",
              "      <th>sentiment</th>\n",
              "      <th>compound</th>\n",
              "      <th>compound_result</th>\n",
              "      <th>likes</th>\n",
              "      <th>retweets</th>\n",
              "      <th>date</th>\n",
              "      <th>verified</th>\n",
              "      <th>URL</th>\n",
              "      <th>text</th>\n",
              "      <th>totalwords</th>\n",
              "    </tr>\n",
              "  </thead>\n",
              "  <tbody>\n",
              "    <tr>\n",
              "      <th>count</th>\n",
              "      <td>1000</td>\n",
              "      <td>1000</td>\n",
              "      <td>1000.000000</td>\n",
              "      <td>1000</td>\n",
              "      <td>1000.000000</td>\n",
              "      <td>1000.000000</td>\n",
              "      <td>1000</td>\n",
              "      <td>1000</td>\n",
              "      <td>1000</td>\n",
              "      <td>1000</td>\n",
              "      <td>1000.000000</td>\n",
              "    </tr>\n",
              "    <tr>\n",
              "      <th>unique</th>\n",
              "      <td>659</td>\n",
              "      <td>464</td>\n",
              "      <td>NaN</td>\n",
              "      <td>3</td>\n",
              "      <td>NaN</td>\n",
              "      <td>NaN</td>\n",
              "      <td>800</td>\n",
              "      <td>2</td>\n",
              "      <td>806</td>\n",
              "      <td>668</td>\n",
              "      <td>NaN</td>\n",
              "    </tr>\n",
              "    <tr>\n",
              "      <th>top</th>\n",
              "      <td>katierosenberg</td>\n",
              "      <td>{'neg': 0.0, 'neu': 1.0, 'pos': 0.0, 'compound...</td>\n",
              "      <td>NaN</td>\n",
              "      <td>neg</td>\n",
              "      <td>NaN</td>\n",
              "      <td>NaN</td>\n",
              "      <td>2022-06-14 16:35:52</td>\n",
              "      <td>False</td>\n",
              "      <td>https://twitter.com/imendangerous/status/15367...</td>\n",
              "      <td>Forever chemical linked high blood pressure mi...</td>\n",
              "      <td>NaN</td>\n",
              "    </tr>\n",
              "    <tr>\n",
              "      <th>freq</th>\n",
              "      <td>9</td>\n",
              "      <td>293</td>\n",
              "      <td>NaN</td>\n",
              "      <td>360</td>\n",
              "      <td>NaN</td>\n",
              "      <td>NaN</td>\n",
              "      <td>4</td>\n",
              "      <td>823</td>\n",
              "      <td>2</td>\n",
              "      <td>36</td>\n",
              "      <td>NaN</td>\n",
              "    </tr>\n",
              "    <tr>\n",
              "      <th>mean</th>\n",
              "      <td>NaN</td>\n",
              "      <td>NaN</td>\n",
              "      <td>-0.013314</td>\n",
              "      <td>NaN</td>\n",
              "      <td>1.679000</td>\n",
              "      <td>0.494000</td>\n",
              "      <td>NaN</td>\n",
              "      <td>NaN</td>\n",
              "      <td>NaN</td>\n",
              "      <td>NaN</td>\n",
              "      <td>13.563000</td>\n",
              "    </tr>\n",
              "    <tr>\n",
              "      <th>std</th>\n",
              "      <td>NaN</td>\n",
              "      <td>NaN</td>\n",
              "      <td>0.452141</td>\n",
              "      <td>NaN</td>\n",
              "      <td>10.710494</td>\n",
              "      <td>1.775138</td>\n",
              "      <td>NaN</td>\n",
              "      <td>NaN</td>\n",
              "      <td>NaN</td>\n",
              "      <td>NaN</td>\n",
              "      <td>6.236259</td>\n",
              "    </tr>\n",
              "    <tr>\n",
              "      <th>min</th>\n",
              "      <td>NaN</td>\n",
              "      <td>NaN</td>\n",
              "      <td>-0.968500</td>\n",
              "      <td>NaN</td>\n",
              "      <td>0.000000</td>\n",
              "      <td>0.000000</td>\n",
              "      <td>NaN</td>\n",
              "      <td>NaN</td>\n",
              "      <td>NaN</td>\n",
              "      <td>NaN</td>\n",
              "      <td>1.000000</td>\n",
              "    </tr>\n",
              "    <tr>\n",
              "      <th>25%</th>\n",
              "      <td>NaN</td>\n",
              "      <td>NaN</td>\n",
              "      <td>-0.296000</td>\n",
              "      <td>NaN</td>\n",
              "      <td>0.000000</td>\n",
              "      <td>0.000000</td>\n",
              "      <td>NaN</td>\n",
              "      <td>NaN</td>\n",
              "      <td>NaN</td>\n",
              "      <td>NaN</td>\n",
              "      <td>8.750000</td>\n",
              "    </tr>\n",
              "    <tr>\n",
              "      <th>50%</th>\n",
              "      <td>NaN</td>\n",
              "      <td>NaN</td>\n",
              "      <td>0.000000</td>\n",
              "      <td>NaN</td>\n",
              "      <td>0.000000</td>\n",
              "      <td>0.000000</td>\n",
              "      <td>NaN</td>\n",
              "      <td>NaN</td>\n",
              "      <td>NaN</td>\n",
              "      <td>NaN</td>\n",
              "      <td>12.500000</td>\n",
              "    </tr>\n",
              "    <tr>\n",
              "      <th>75%</th>\n",
              "      <td>NaN</td>\n",
              "      <td>NaN</td>\n",
              "      <td>0.296000</td>\n",
              "      <td>NaN</td>\n",
              "      <td>1.000000</td>\n",
              "      <td>0.000000</td>\n",
              "      <td>NaN</td>\n",
              "      <td>NaN</td>\n",
              "      <td>NaN</td>\n",
              "      <td>NaN</td>\n",
              "      <td>19.000000</td>\n",
              "    </tr>\n",
              "    <tr>\n",
              "      <th>max</th>\n",
              "      <td>NaN</td>\n",
              "      <td>NaN</td>\n",
              "      <td>0.931300</td>\n",
              "      <td>NaN</td>\n",
              "      <td>284.000000</td>\n",
              "      <td>30.000000</td>\n",
              "      <td>NaN</td>\n",
              "      <td>NaN</td>\n",
              "      <td>NaN</td>\n",
              "      <td>NaN</td>\n",
              "      <td>29.000000</td>\n",
              "    </tr>\n",
              "  </tbody>\n",
              "</table>\n",
              "</div>\n",
              "      <button class=\"colab-df-convert\" onclick=\"convertToInteractive('df-a2d68f09-3698-4c14-9825-de2ebb0720b8')\"\n",
              "              title=\"Convert this dataframe to an interactive table.\"\n",
              "              style=\"display:none;\">\n",
              "        \n",
              "  <svg xmlns=\"http://www.w3.org/2000/svg\" height=\"24px\"viewBox=\"0 0 24 24\"\n",
              "       width=\"24px\">\n",
              "    <path d=\"M0 0h24v24H0V0z\" fill=\"none\"/>\n",
              "    <path d=\"M18.56 5.44l.94 2.06.94-2.06 2.06-.94-2.06-.94-.94-2.06-.94 2.06-2.06.94zm-11 1L8.5 8.5l.94-2.06 2.06-.94-2.06-.94L8.5 2.5l-.94 2.06-2.06.94zm10 10l.94 2.06.94-2.06 2.06-.94-2.06-.94-.94-2.06-.94 2.06-2.06.94z\"/><path d=\"M17.41 7.96l-1.37-1.37c-.4-.4-.92-.59-1.43-.59-.52 0-1.04.2-1.43.59L10.3 9.45l-7.72 7.72c-.78.78-.78 2.05 0 2.83L4 21.41c.39.39.9.59 1.41.59.51 0 1.02-.2 1.41-.59l7.78-7.78 2.81-2.81c.8-.78.8-2.07 0-2.86zM5.41 20L4 18.59l7.72-7.72 1.47 1.35L5.41 20z\"/>\n",
              "  </svg>\n",
              "      </button>\n",
              "      \n",
              "  <style>\n",
              "    .colab-df-container {\n",
              "      display:flex;\n",
              "      flex-wrap:wrap;\n",
              "      gap: 12px;\n",
              "    }\n",
              "\n",
              "    .colab-df-convert {\n",
              "      background-color: #E8F0FE;\n",
              "      border: none;\n",
              "      border-radius: 50%;\n",
              "      cursor: pointer;\n",
              "      display: none;\n",
              "      fill: #1967D2;\n",
              "      height: 32px;\n",
              "      padding: 0 0 0 0;\n",
              "      width: 32px;\n",
              "    }\n",
              "\n",
              "    .colab-df-convert:hover {\n",
              "      background-color: #E2EBFA;\n",
              "      box-shadow: 0px 1px 2px rgba(60, 64, 67, 0.3), 0px 1px 3px 1px rgba(60, 64, 67, 0.15);\n",
              "      fill: #174EA6;\n",
              "    }\n",
              "\n",
              "    [theme=dark] .colab-df-convert {\n",
              "      background-color: #3B4455;\n",
              "      fill: #D2E3FC;\n",
              "    }\n",
              "\n",
              "    [theme=dark] .colab-df-convert:hover {\n",
              "      background-color: #434B5C;\n",
              "      box-shadow: 0px 1px 3px 1px rgba(0, 0, 0, 0.15);\n",
              "      filter: drop-shadow(0px 1px 2px rgba(0, 0, 0, 0.3));\n",
              "      fill: #FFFFFF;\n",
              "    }\n",
              "  </style>\n",
              "\n",
              "      <script>\n",
              "        const buttonEl =\n",
              "          document.querySelector('#df-a2d68f09-3698-4c14-9825-de2ebb0720b8 button.colab-df-convert');\n",
              "        buttonEl.style.display =\n",
              "          google.colab.kernel.accessAllowed ? 'block' : 'none';\n",
              "\n",
              "        async function convertToInteractive(key) {\n",
              "          const element = document.querySelector('#df-a2d68f09-3698-4c14-9825-de2ebb0720b8');\n",
              "          const dataTable =\n",
              "            await google.colab.kernel.invokeFunction('convertToInteractive',\n",
              "                                                     [key], {});\n",
              "          if (!dataTable) return;\n",
              "\n",
              "          const docLinkHtml = 'Like what you see? Visit the ' +\n",
              "            '<a target=\"_blank\" href=https://colab.research.google.com/notebooks/data_table.ipynb>data table notebook</a>'\n",
              "            + ' to learn more about interactive tables.';\n",
              "          element.innerHTML = '';\n",
              "          dataTable['output_type'] = 'display_data';\n",
              "          await google.colab.output.renderOutput(dataTable, element);\n",
              "          const docLink = document.createElement('div');\n",
              "          docLink.innerHTML = docLinkHtml;\n",
              "          element.appendChild(docLink);\n",
              "        }\n",
              "      </script>\n",
              "    </div>\n",
              "  </div>\n",
              "  "
            ]
          },
          "metadata": {},
          "execution_count": 61
        }
      ]
    },
    {
      "cell_type": "code",
      "source": [
        "# Coorelation between attributes\n",
        "new_df.corr()"
      ],
      "metadata": {
        "id": "yp6ADe88NcoZ",
        "colab": {
          "base_uri": "https://localhost:8080/",
          "height": 206
        },
        "outputId": "f4aff25c-6704-481f-84a2-a11235509453"
      },
      "execution_count": null,
      "outputs": [
        {
          "output_type": "execute_result",
          "data": {
            "text/plain": [
              "            compound     likes  retweets  verified  totalwords\n",
              "compound    1.000000  0.077021  0.041791  0.068860    0.100367\n",
              "likes       0.077021  1.000000  0.760339  0.134323    0.062370\n",
              "retweets    0.041791  0.760339  1.000000  0.245966    0.111932\n",
              "verified    0.068860  0.134323  0.245966  1.000000   -0.032640\n",
              "totalwords  0.100367  0.062370  0.111932 -0.032640    1.000000"
            ],
            "text/html": [
              "\n",
              "  <div id=\"df-f35fee98-32b2-4380-a709-6fc0534ec22e\">\n",
              "    <div class=\"colab-df-container\">\n",
              "      <div>\n",
              "<style scoped>\n",
              "    .dataframe tbody tr th:only-of-type {\n",
              "        vertical-align: middle;\n",
              "    }\n",
              "\n",
              "    .dataframe tbody tr th {\n",
              "        vertical-align: top;\n",
              "    }\n",
              "\n",
              "    .dataframe thead th {\n",
              "        text-align: right;\n",
              "    }\n",
              "</style>\n",
              "<table border=\"1\" class=\"dataframe\">\n",
              "  <thead>\n",
              "    <tr style=\"text-align: right;\">\n",
              "      <th></th>\n",
              "      <th>compound</th>\n",
              "      <th>likes</th>\n",
              "      <th>retweets</th>\n",
              "      <th>verified</th>\n",
              "      <th>totalwords</th>\n",
              "    </tr>\n",
              "  </thead>\n",
              "  <tbody>\n",
              "    <tr>\n",
              "      <th>compound</th>\n",
              "      <td>1.000000</td>\n",
              "      <td>0.077021</td>\n",
              "      <td>0.041791</td>\n",
              "      <td>0.068860</td>\n",
              "      <td>0.100367</td>\n",
              "    </tr>\n",
              "    <tr>\n",
              "      <th>likes</th>\n",
              "      <td>0.077021</td>\n",
              "      <td>1.000000</td>\n",
              "      <td>0.760339</td>\n",
              "      <td>0.134323</td>\n",
              "      <td>0.062370</td>\n",
              "    </tr>\n",
              "    <tr>\n",
              "      <th>retweets</th>\n",
              "      <td>0.041791</td>\n",
              "      <td>0.760339</td>\n",
              "      <td>1.000000</td>\n",
              "      <td>0.245966</td>\n",
              "      <td>0.111932</td>\n",
              "    </tr>\n",
              "    <tr>\n",
              "      <th>verified</th>\n",
              "      <td>0.068860</td>\n",
              "      <td>0.134323</td>\n",
              "      <td>0.245966</td>\n",
              "      <td>1.000000</td>\n",
              "      <td>-0.032640</td>\n",
              "    </tr>\n",
              "    <tr>\n",
              "      <th>totalwords</th>\n",
              "      <td>0.100367</td>\n",
              "      <td>0.062370</td>\n",
              "      <td>0.111932</td>\n",
              "      <td>-0.032640</td>\n",
              "      <td>1.000000</td>\n",
              "    </tr>\n",
              "  </tbody>\n",
              "</table>\n",
              "</div>\n",
              "      <button class=\"colab-df-convert\" onclick=\"convertToInteractive('df-f35fee98-32b2-4380-a709-6fc0534ec22e')\"\n",
              "              title=\"Convert this dataframe to an interactive table.\"\n",
              "              style=\"display:none;\">\n",
              "        \n",
              "  <svg xmlns=\"http://www.w3.org/2000/svg\" height=\"24px\"viewBox=\"0 0 24 24\"\n",
              "       width=\"24px\">\n",
              "    <path d=\"M0 0h24v24H0V0z\" fill=\"none\"/>\n",
              "    <path d=\"M18.56 5.44l.94 2.06.94-2.06 2.06-.94-2.06-.94-.94-2.06-.94 2.06-2.06.94zm-11 1L8.5 8.5l.94-2.06 2.06-.94-2.06-.94L8.5 2.5l-.94 2.06-2.06.94zm10 10l.94 2.06.94-2.06 2.06-.94-2.06-.94-.94-2.06-.94 2.06-2.06.94z\"/><path d=\"M17.41 7.96l-1.37-1.37c-.4-.4-.92-.59-1.43-.59-.52 0-1.04.2-1.43.59L10.3 9.45l-7.72 7.72c-.78.78-.78 2.05 0 2.83L4 21.41c.39.39.9.59 1.41.59.51 0 1.02-.2 1.41-.59l7.78-7.78 2.81-2.81c.8-.78.8-2.07 0-2.86zM5.41 20L4 18.59l7.72-7.72 1.47 1.35L5.41 20z\"/>\n",
              "  </svg>\n",
              "      </button>\n",
              "      \n",
              "  <style>\n",
              "    .colab-df-container {\n",
              "      display:flex;\n",
              "      flex-wrap:wrap;\n",
              "      gap: 12px;\n",
              "    }\n",
              "\n",
              "    .colab-df-convert {\n",
              "      background-color: #E8F0FE;\n",
              "      border: none;\n",
              "      border-radius: 50%;\n",
              "      cursor: pointer;\n",
              "      display: none;\n",
              "      fill: #1967D2;\n",
              "      height: 32px;\n",
              "      padding: 0 0 0 0;\n",
              "      width: 32px;\n",
              "    }\n",
              "\n",
              "    .colab-df-convert:hover {\n",
              "      background-color: #E2EBFA;\n",
              "      box-shadow: 0px 1px 2px rgba(60, 64, 67, 0.3), 0px 1px 3px 1px rgba(60, 64, 67, 0.15);\n",
              "      fill: #174EA6;\n",
              "    }\n",
              "\n",
              "    [theme=dark] .colab-df-convert {\n",
              "      background-color: #3B4455;\n",
              "      fill: #D2E3FC;\n",
              "    }\n",
              "\n",
              "    [theme=dark] .colab-df-convert:hover {\n",
              "      background-color: #434B5C;\n",
              "      box-shadow: 0px 1px 3px 1px rgba(0, 0, 0, 0.15);\n",
              "      filter: drop-shadow(0px 1px 2px rgba(0, 0, 0, 0.3));\n",
              "      fill: #FFFFFF;\n",
              "    }\n",
              "  </style>\n",
              "\n",
              "      <script>\n",
              "        const buttonEl =\n",
              "          document.querySelector('#df-f35fee98-32b2-4380-a709-6fc0534ec22e button.colab-df-convert');\n",
              "        buttonEl.style.display =\n",
              "          google.colab.kernel.accessAllowed ? 'block' : 'none';\n",
              "\n",
              "        async function convertToInteractive(key) {\n",
              "          const element = document.querySelector('#df-f35fee98-32b2-4380-a709-6fc0534ec22e');\n",
              "          const dataTable =\n",
              "            await google.colab.kernel.invokeFunction('convertToInteractive',\n",
              "                                                     [key], {});\n",
              "          if (!dataTable) return;\n",
              "\n",
              "          const docLinkHtml = 'Like what you see? Visit the ' +\n",
              "            '<a target=\"_blank\" href=https://colab.research.google.com/notebooks/data_table.ipynb>data table notebook</a>'\n",
              "            + ' to learn more about interactive tables.';\n",
              "          element.innerHTML = '';\n",
              "          dataTable['output_type'] = 'display_data';\n",
              "          await google.colab.output.renderOutput(dataTable, element);\n",
              "          const docLink = document.createElement('div');\n",
              "          docLink.innerHTML = docLinkHtml;\n",
              "          element.appendChild(docLink);\n",
              "        }\n",
              "      </script>\n",
              "    </div>\n",
              "  </div>\n",
              "  "
            ]
          },
          "metadata": {},
          "execution_count": 28
        }
      ]
    },
    {
      "cell_type": "code",
      "source": [],
      "metadata": {
        "id": "rTdcgdRUL0up"
      },
      "execution_count": null,
      "outputs": []
    },
    {
      "cell_type": "code",
      "source": [
        "plt.scatter(new_df['likes'], new_df['retweets'])"
      ],
      "metadata": {
        "id": "OA2icglwNhEW",
        "colab": {
          "base_uri": "https://localhost:8080/",
          "height": 280
        },
        "outputId": "6e682535-2e22-494a-c0ff-7ff24f68c129"
      },
      "execution_count": null,
      "outputs": [
        {
          "output_type": "execute_result",
          "data": {
            "text/plain": [
              "<matplotlib.collections.PathCollection at 0x7fe10809da50>"
            ]
          },
          "metadata": {},
          "execution_count": 29
        },
        {
          "output_type": "display_data",
          "data": {
            "text/plain": [
              "<Figure size 432x288 with 1 Axes>"
            ],
            "image/png": "[encoded data removed]"
          },
          "metadata": {}
        }
      ]
    },
    {
      "cell_type": "markdown",
      "source": [
        "We found that the majority of the sentiment in the tweets was negative."
      ],
      "metadata": {
        "id": "votfgM_t7E1i"
      }
    },
    {
      "cell_type": "code",
      "source": [
        "plt.bar(new_df['compound_result'], new_df['retweets'])"
      ],
      "metadata": {
        "id": "QcvVvZZpZp5Y",
        "colab": {
          "base_uri": "https://localhost:8080/",
          "height": 280
        },
        "outputId": "7f1d8c58-b0d4-406c-a25b-880b98a96d3d"
      },
      "execution_count": null,
      "outputs": [
        {
          "output_type": "execute_result",
          "data": {
            "text/plain": [
              "<BarContainer object of 1000 artists>"
            ]
          },
          "metadata": {},
          "execution_count": 30
        },
        {
          "output_type": "display_data",
          "data": {
            "text/plain": [
              "<Figure size 432x288 with 1 Axes>"
            ],
            "image/png": "[encoded data removed]"
          },
          "metadata": {}
        }
      ]
    },
    {
      "cell_type": "code",
      "source": [
        "plt.hist(df['compound'])"
      ],
      "metadata": {
        "id": "I01T9DMb6ows",
        "colab": {
          "base_uri": "https://localhost:8080/",
          "height": 336
        },
        "outputId": "3560a29b-2dec-4f17-97ad-b67ee4c59010"
      },
      "execution_count": null,
      "outputs": [
        {
          "output_type": "execute_result",
          "data": {
            "text/plain": [
              "(array([ 77.,  44.,  72., 101.,  66., 334.,  90.,  83.,  74.,  59.]),\n",
              " array([-0.9685 , -0.77852, -0.58854, -0.39856, -0.20858, -0.0186 ,\n",
              "         0.17138,  0.36136,  0.55134,  0.74132,  0.9313 ]),\n",
              " <a list of 10 Patch objects>)"
            ]
          },
          "metadata": {},
          "execution_count": 31
        },
        {
          "output_type": "display_data",
          "data": {
            "text/plain": [
              "<Figure size 432x288 with 1 Axes>"
            ],
            "image/png": "[encoded data removed]"
          },
          "metadata": {}
        }
      ]
    },
    {
      "cell_type": "code",
      "source": [
        "plt.scatter(df['compound'], df['likes'])"
      ],
      "metadata": {
        "id": "M3X0ETQGkVC4",
        "colab": {
          "base_uri": "https://localhost:8080/",
          "height": 280
        },
        "outputId": "b9e5385b-3a22-4ad1-e393-a9ccb695e5b0"
      },
      "execution_count": null,
      "outputs": [
        {
          "output_type": "execute_result",
          "data": {
            "text/plain": [
              "<matplotlib.collections.PathCollection at 0x7fe0fbb4f850>"
            ]
          },
          "metadata": {},
          "execution_count": 32
        },
        {
          "output_type": "display_data",
          "data": {
            "text/plain": [
              "<Figure size 432x288 with 1 Axes>"
            ],
            "image/png": "[encoded data removed]"
          },
          "metadata": {}
        }
      ]
    },
    {
      "cell_type": "code",
      "source": [
        "plt.matshow(new_df.corr())\n",
        "plt.show()"
      ],
      "metadata": {
        "id": "wZe7WjzIKj8m",
        "colab": {
          "base_uri": "https://localhost:8080/",
          "height": 268
        },
        "outputId": "1104e7a8-8f91-4a5a-d89d-f1e19fffdf92"
      },
      "execution_count": null,
      "outputs": [
        {
          "output_type": "display_data",
          "data": {
            "text/plain": [
              "<Figure size 288x288 with 1 Axes>"
            ],
            "image/png": "[encoded data removed]"
          },
          "metadata": {}
        }
      ]
    },
    {
      "cell_type": "markdown",
      "source": [
        "\n",
        "\n",
        "---\n",
        "\n"
      ],
      "metadata": {
        "id": "qCRJmVMBfBs1"
      }
    },
    {
      "cell_type": "markdown",
      "source": [
        "#Section 4: Text Analysis\n",
        "\n",
        "In this sections we will begin the analysis of our text: \n",
        "\n",
        "\n",
        "We are hoping to analyze the relationship between the emotions of text, the word type, and the length of the text, and its correlation to the popularity of the message. These attributes will be measured against the likes and retweets columns. "
      ],
      "metadata": {
        "id": "Dbg3B7GNfCgT"
      }
    },
    {
      "cell_type": "code",
      "source": [
        "#A new variable that creates a specfically modified text\n",
        "word_text = new_df[\"text\"].str.split(\" \", n=-1)"
      ],
      "metadata": {
        "id": "OSxv9FOpfAur"
      },
      "execution_count": null,
      "outputs": []
    },
    {
      "cell_type": "code",
      "source": [
        "#word_count function, this function counts each word in the given index and has\n",
        "#a the total of the count\n",
        "  #Arguement: The index of the column\n",
        "  #Return: Each word and the count\n",
        "\n",
        "def word_count(str):\n",
        "    counts = dict()\n",
        "    i = 0\n",
        "    for word in word_text[i]:\n",
        "        if word in counts:\n",
        "            counts[word] += 1\n",
        "        else:\n",
        "            counts[word] = 1\n",
        "        i=i+1\n",
        "    return counts\n",
        "\n",
        "#Example: \n",
        "word_count(0)"
      ],
      "metadata": {
        "id": "QC8ag2c36WVt",
        "colab": {
          "base_uri": "https://localhost:8080/"
        },
        "outputId": "70c2f1dc-f72d-4022-8f80-10c9432c0aa3"
      },
      "execution_count": null,
      "outputs": [
        {
          "output_type": "execute_result",
          "data": {
            "text/plain": [
              "{'Congressional': 1,\n",
              " 'Donley': 1,\n",
              " 'Nathan': 1,\n",
              " 'Neonicotinoids': 1,\n",
              " 'PFAS': 1,\n",
              " 'SerestoFleaCollars': 1,\n",
              " 'action': 1,\n",
              " 'death': 1,\n",
              " 'failed': 1,\n",
              " 'hearing': 1,\n",
              " 'linked': 1,\n",
              " 'read': 1,\n",
              " 'take': 1,\n",
              " 'testify': 1}"
            ]
          },
          "metadata": {},
          "execution_count": 35
        }
      ]
    },
    {
      "cell_type": "code",
      "source": [
        "#A Function that searches all words in the text returns the count of the 'KEY' word\n",
        "def wordSearch (word_text, str):\n",
        "    count=0\n",
        "    for i in word_text:\n",
        "      for j in i:\n",
        "          if (j == str):\n",
        "            count+=1\n",
        "    return count"
      ],
      "metadata": {
        "id": "c1ejBFIGGzMU"
      },
      "execution_count": null,
      "outputs": []
    },
    {
      "cell_type": "code",
      "source": [
        "#Using the Function\n",
        "#Creating a new list with the counts of each word \n",
        "count_list = []\n",
        "PFAS = wordSearch(word_text, 'PFAS')\n",
        "count_list.append(PFAS)\n",
        "PFOS = wordSearch(word_text, 'PFOS')\n",
        "count_list.append(PFOS)\n",
        "PFOA = wordSearch(word_text, 'PFOA')\n",
        "count_list.append(PFOA)\n",
        "PFHxA = wordSearch(word_text, 'PFHxA')\n",
        "count_list.append(PFHxA)\n",
        "EPA = wordSearch(word_text, 'EPA')\n",
        "count_list.append(EPA)\n",
        "chemicals = wordSearch(word_text, 'chemicals')\n",
        "count_list.append(chemicals)\n",
        "forever = wordSearch(word_text, 'forever')\n",
        "count_list.append(forever)\n",
        "health = wordSearch(word_text, 'health')\n",
        "count_list.append(health)\n",
        "drinking = wordSearch(word_text, 'drinking')\n",
        "count_list.append(drinking)\n",
        "water = wordSearch(word_text, 'water')\n",
        "count_list.append(water)"
      ],
      "metadata": {
        "id": "VZAM1EdQzxLc"
      },
      "execution_count": null,
      "outputs": []
    },
    {
      "cell_type": "code",
      "source": [
        "#Dataframe of words and their association\n",
        "special_word = ['PFSA', 'PFOS', 'PFOA', 'PFHxA', 'EPA', 'chemicals', 'forever', 'health', 'drinking', 'water']\n",
        "key_df = pd.DataFrame(columns=['word', 'count', 'present', 'likes', 'retweets', 'compound', 'compound_result'])\n",
        "key_df['word'] = special_word\n",
        "key_df['count'] = count_list\n",
        "key_df['likes'] = new_df['likes']\n",
        "key_df['retweets'] = new_df['retweets']\n",
        "key_df['likes'] = new_df['likes']\n",
        "key_df['compound'] = new_df['compound']\n",
        "key_df['compound_result'] = new_df['compound_result']"
      ],
      "metadata": {
        "id": "v4pR8tEWYER-"
      },
      "execution_count": null,
      "outputs": []
    },
    {
      "cell_type": "code",
      "source": [
        "#A function that shows whether the word is present; A list that stores the data\n",
        "label_list = []\n",
        "def wordList (label_list): \n",
        "    for i in range(len(key_df)):\n",
        "      if (key_df['count'][i]) > 1:\n",
        "        present = 1\n",
        "      else:\n",
        "        present = 0\n",
        "      label_list.append(present)\n",
        "    return label_list\n",
        "\n",
        "wordList(label_list)\n",
        "key_df['present'] = label_list"
      ],
      "metadata": {
        "id": "sTzjyK54kNEg"
      },
      "execution_count": null,
      "outputs": []
    },
    {
      "cell_type": "code",
      "source": [
        "#The New Dataframe\n",
        "key_df"
      ],
      "metadata": {
        "id": "ZbDYUmWjSmpF",
        "colab": {
          "base_uri": "https://localhost:8080/",
          "height": 363
        },
        "outputId": "71599262-c403-444b-df66-a74fd92fa762"
      },
      "execution_count": null,
      "outputs": [
        {
          "output_type": "execute_result",
          "data": {
            "text/plain": [
              "        word  count  present  likes  retweets  compound compound_result\n",
              "0       PFSA    620        1      0         0   -0.8020             neg\n",
              "1       PFOS     22        1      0         0    0.3400             pos\n",
              "2       PFOA     48        1      0         0   -0.2732             neg\n",
              "3      PFHxA      0        0      1         1   -0.7960             neg\n",
              "4        EPA      0        0      0         1    0.0000             neu\n",
              "5  chemicals      0        0      0         0    0.3182             pos\n",
              "6    forever    245        1      0         0   -0.2960             neg\n",
              "7     health     72        1      0         0   -0.7430             neg\n",
              "8   drinking    107        1      0         0   -0.2960             neg\n",
              "9      water    261        1      0         0    0.0000             neu"
            ],
            "text/html": [
              "\n",
              "  <div id=\"df-fccb55d6-f08a-4925-bd92-f6eec753eaa1\">\n",
              "    <div class=\"colab-df-container\">\n",
              "      <div>\n",
              "<style scoped>\n",
              "    .dataframe tbody tr th:only-of-type {\n",
              "        vertical-align: middle;\n",
              "    }\n",
              "\n",
              "    .dataframe tbody tr th {\n",
              "        vertical-align: top;\n",
              "    }\n",
              "\n",
              "    .dataframe thead th {\n",
              "        text-align: right;\n",
              "    }\n",
              "</style>\n",
              "<table border=\"1\" class=\"dataframe\">\n",
              "  <thead>\n",
              "    <tr style=\"text-align: right;\">\n",
              "      <th></th>\n",
              "      <th>word</th>\n",
              "      <th>count</th>\n",
              "      <th>present</th>\n",
              "      <th>likes</th>\n",
              "      <th>retweets</th>\n",
              "      <th>compound</th>\n",
              "      <th>compound_result</th>\n",
              "    </tr>\n",
              "  </thead>\n",
              "  <tbody>\n",
              "    <tr>\n",
              "      <th>0</th>\n",
              "      <td>PFSA</td>\n",
              "      <td>620</td>\n",
              "      <td>1</td>\n",
              "      <td>0</td>\n",
              "      <td>0</td>\n",
              "      <td>-0.8020</td>\n",
              "      <td>neg</td>\n",
              "    </tr>\n",
              "    <tr>\n",
              "      <th>1</th>\n",
              "      <td>PFOS</td>\n",
              "      <td>22</td>\n",
              "      <td>1</td>\n",
              "      <td>0</td>\n",
              "      <td>0</td>\n",
              "      <td>0.3400</td>\n",
              "      <td>pos</td>\n",
              "    </tr>\n",
              "    <tr>\n",
              "      <th>2</th>\n",
              "      <td>PFOA</td>\n",
              "      <td>48</td>\n",
              "      <td>1</td>\n",
              "      <td>0</td>\n",
              "      <td>0</td>\n",
              "      <td>-0.2732</td>\n",
              "      <td>neg</td>\n",
              "    </tr>\n",
              "    <tr>\n",
              "      <th>3</th>\n",
              "      <td>PFHxA</td>\n",
              "      <td>0</td>\n",
              "      <td>0</td>\n",
              "      <td>1</td>\n",
              "      <td>1</td>\n",
              "      <td>-0.7960</td>\n",
              "      <td>neg</td>\n",
              "    </tr>\n",
              "    <tr>\n",
              "      <th>4</th>\n",
              "      <td>EPA</td>\n",
              "      <td>0</td>\n",
              "      <td>0</td>\n",
              "      <td>0</td>\n",
              "      <td>1</td>\n",
              "      <td>0.0000</td>\n",
              "      <td>neu</td>\n",
              "    </tr>\n",
              "    <tr>\n",
              "      <th>5</th>\n",
              "      <td>chemicals</td>\n",
              "      <td>0</td>\n",
              "      <td>0</td>\n",
              "      <td>0</td>\n",
              "      <td>0</td>\n",
              "      <td>0.3182</td>\n",
              "      <td>pos</td>\n",
              "    </tr>\n",
              "    <tr>\n",
              "      <th>6</th>\n",
              "      <td>forever</td>\n",
              "      <td>245</td>\n",
              "      <td>1</td>\n",
              "      <td>0</td>\n",
              "      <td>0</td>\n",
              "      <td>-0.2960</td>\n",
              "      <td>neg</td>\n",
              "    </tr>\n",
              "    <tr>\n",
              "      <th>7</th>\n",
              "      <td>health</td>\n",
              "      <td>72</td>\n",
              "      <td>1</td>\n",
              "      <td>0</td>\n",
              "      <td>0</td>\n",
              "      <td>-0.7430</td>\n",
              "      <td>neg</td>\n",
              "    </tr>\n",
              "    <tr>\n",
              "      <th>8</th>\n",
              "      <td>drinking</td>\n",
              "      <td>107</td>\n",
              "      <td>1</td>\n",
              "      <td>0</td>\n",
              "      <td>0</td>\n",
              "      <td>-0.2960</td>\n",
              "      <td>neg</td>\n",
              "    </tr>\n",
              "    <tr>\n",
              "      <th>9</th>\n",
              "      <td>water</td>\n",
              "      <td>261</td>\n",
              "      <td>1</td>\n",
              "      <td>0</td>\n",
              "      <td>0</td>\n",
              "      <td>0.0000</td>\n",
              "      <td>neu</td>\n",
              "    </tr>\n",
              "  </tbody>\n",
              "</table>\n",
              "</div>\n",
              "      <button class=\"colab-df-convert\" onclick=\"convertToInteractive('df-fccb55d6-f08a-4925-bd92-f6eec753eaa1')\"\n",
              "              title=\"Convert this dataframe to an interactive table.\"\n",
              "              style=\"display:none;\">\n",
              "        \n",
              "  <svg xmlns=\"http://www.w3.org/2000/svg\" height=\"24px\"viewBox=\"0 0 24 24\"\n",
              "       width=\"24px\">\n",
              "    <path d=\"M0 0h24v24H0V0z\" fill=\"none\"/>\n",
              "    <path d=\"M18.56 5.44l.94 2.06.94-2.06 2.06-.94-2.06-.94-.94-2.06-.94 2.06-2.06.94zm-11 1L8.5 8.5l.94-2.06 2.06-.94-2.06-.94L8.5 2.5l-.94 2.06-2.06.94zm10 10l.94 2.06.94-2.06 2.06-.94-2.06-.94-.94-2.06-.94 2.06-2.06.94z\"/><path d=\"M17.41 7.96l-1.37-1.37c-.4-.4-.92-.59-1.43-.59-.52 0-1.04.2-1.43.59L10.3 9.45l-7.72 7.72c-.78.78-.78 2.05 0 2.83L4 21.41c.39.39.9.59 1.41.59.51 0 1.02-.2 1.41-.59l7.78-7.78 2.81-2.81c.8-.78.8-2.07 0-2.86zM5.41 20L4 18.59l7.72-7.72 1.47 1.35L5.41 20z\"/>\n",
              "  </svg>\n",
              "      </button>\n",
              "      \n",
              "  <style>\n",
              "    .colab-df-container {\n",
              "      display:flex;\n",
              "      flex-wrap:wrap;\n",
              "      gap: 12px;\n",
              "    }\n",
              "\n",
              "    .colab-df-convert {\n",
              "      background-color: #E8F0FE;\n",
              "      border: none;\n",
              "      border-radius: 50%;\n",
              "      cursor: pointer;\n",
              "      display: none;\n",
              "      fill: #1967D2;\n",
              "      height: 32px;\n",
              "      padding: 0 0 0 0;\n",
              "      width: 32px;\n",
              "    }\n",
              "\n",
              "    .colab-df-convert:hover {\n",
              "      background-color: #E2EBFA;\n",
              "      box-shadow: 0px 1px 2px rgba(60, 64, 67, 0.3), 0px 1px 3px 1px rgba(60, 64, 67, 0.15);\n",
              "      fill: #174EA6;\n",
              "    }\n",
              "\n",
              "    [theme=dark] .colab-df-convert {\n",
              "      background-color: #3B4455;\n",
              "      fill: #D2E3FC;\n",
              "    }\n",
              "\n",
              "    [theme=dark] .colab-df-convert:hover {\n",
              "      background-color: #434B5C;\n",
              "      box-shadow: 0px 1px 3px 1px rgba(0, 0, 0, 0.15);\n",
              "      filter: drop-shadow(0px 1px 2px rgba(0, 0, 0, 0.3));\n",
              "      fill: #FFFFFF;\n",
              "    }\n",
              "  </style>\n",
              "\n",
              "      <script>\n",
              "        const buttonEl =\n",
              "          document.querySelector('#df-fccb55d6-f08a-4925-bd92-f6eec753eaa1 button.colab-df-convert');\n",
              "        buttonEl.style.display =\n",
              "          google.colab.kernel.accessAllowed ? 'block' : 'none';\n",
              "\n",
              "        async function convertToInteractive(key) {\n",
              "          const element = document.querySelector('#df-fccb55d6-f08a-4925-bd92-f6eec753eaa1');\n",
              "          const dataTable =\n",
              "            await google.colab.kernel.invokeFunction('convertToInteractive',\n",
              "                                                     [key], {});\n",
              "          if (!dataTable) return;\n",
              "\n",
              "          const docLinkHtml = 'Like what you see? Visit the ' +\n",
              "            '<a target=\"_blank\" href=https://colab.research.google.com/notebooks/data_table.ipynb>data table notebook</a>'\n",
              "            + ' to learn more about interactive tables.';\n",
              "          element.innerHTML = '';\n",
              "          dataTable['output_type'] = 'display_data';\n",
              "          await google.colab.output.renderOutput(dataTable, element);\n",
              "          const docLink = document.createElement('div');\n",
              "          docLink.innerHTML = docLinkHtml;\n",
              "          element.appendChild(docLink);\n",
              "        }\n",
              "      </script>\n",
              "    </div>\n",
              "  </div>\n",
              "  "
            ]
          },
          "metadata": {},
          "execution_count": 40
        }
      ]
    },
    {
      "cell_type": "markdown",
      "source": [
        "The most common word found in the tweets was PFAS. "
      ],
      "metadata": {
        "id": "lxY0YzCKiqMt"
      }
    },
    {
      "cell_type": "code",
      "source": [
        "#Visual of Common Words\n",
        "print('Bar Graph of Key Words')\n",
        "linewidth = 0.5\n",
        "plt.bar(key_df['word'], key_df['count'], linewidth)"
      ],
      "metadata": {
        "id": "1qw5Iz9rd0oX",
        "colab": {
          "base_uri": "https://localhost:8080/",
          "height": 298
        },
        "outputId": "4ba69014-64bb-45d7-946c-fae9656fa07e"
      },
      "execution_count": null,
      "outputs": [
        {
          "output_type": "stream",
          "name": "stdout",
          "text": [
            "Bar Graph of Key Words\n"
          ]
        },
        {
          "output_type": "execute_result",
          "data": {
            "text/plain": [
              "<BarContainer object of 10 artists>"
            ]
          },
          "metadata": {},
          "execution_count": 41
        },
        {
          "output_type": "display_data",
          "data": {
            "text/plain": [
              "<Figure size 432x288 with 1 Axes>"
            ],
            "image/png": "[encoded data removed]"
          },
          "metadata": {}
        }
      ]
    },
    {
      "cell_type": "markdown",
      "source": [
        "Additionally, the word PFAS recieves the highest negative compound score. This means that the word is preceived with a negative connotation. "
      ],
      "metadata": {
        "id": "MnaQx8exjnOs"
      }
    },
    {
      "cell_type": "code",
      "source": [
        "#Visual of the Word and the compound result\n",
        "print('Bar Graph of Word Reception')\n",
        "linewidth = 0.5\n",
        "plt.bar(key_df['word'], key_df['compound'], linewidth)"
      ],
      "metadata": {
        "id": "bHLFbTwSjIoB",
        "colab": {
          "base_uri": "https://localhost:8080/",
          "height": 298
        },
        "outputId": "455aa27f-974f-4273-f662-ebeb7ea755b1"
      },
      "execution_count": null,
      "outputs": [
        {
          "output_type": "stream",
          "name": "stdout",
          "text": [
            "Bar Graph of Word Reception\n"
          ]
        },
        {
          "output_type": "execute_result",
          "data": {
            "text/plain": [
              "<BarContainer object of 10 artists>"
            ]
          },
          "metadata": {},
          "execution_count": 42
        },
        {
          "output_type": "display_data",
          "data": {
            "text/plain": [
              "<Figure size 432x288 with 1 Axes>"
            ],
            "image/png": "[encoded data removed]"
          },
          "metadata": {}
        }
      ]
    },
    {
      "cell_type": "code",
      "source": [
        "plt.scatter(key_df['word'], key_df['compound'])"
      ],
      "metadata": {
        "id": "0CuULQ5ljXhT",
        "colab": {
          "base_uri": "https://localhost:8080/",
          "height": 280
        },
        "outputId": "464ab328-54db-4fde-a5ae-0c58ced3cadf"
      },
      "execution_count": null,
      "outputs": [
        {
          "output_type": "execute_result",
          "data": {
            "text/plain": [
              "<matplotlib.collections.PathCollection at 0x7fe0fb95c190>"
            ]
          },
          "metadata": {},
          "execution_count": 43
        },
        {
          "output_type": "display_data",
          "data": {
            "text/plain": [
              "<Figure size 432x288 with 1 Axes>"
            ],
            "image/png": "[encoded data removed]"
          },
          "metadata": {}
        }
      ]
    },
    {
      "cell_type": "code",
      "source": [
        "#Coorelation of the attributes\n",
        "corr = key_df.corr()\n",
        "corr.style.background_gradient(cmap='coolwarm')"
      ],
      "metadata": {
        "id": "-kMqEYoEfy09",
        "colab": {
          "base_uri": "https://localhost:8080/",
          "height": 206
        },
        "outputId": "cbf09b4d-b91c-437f-f29f-499f8a87ace8"
      },
      "execution_count": null,
      "outputs": [
        {
          "output_type": "execute_result",
          "data": {
            "text/plain": [
              "<pandas.io.formats.style.Styler at 0x7fe0fb8940d0>"
            ],
            "text/html": [
              "<style type=\"text/css\">\n",
              "#T_32b87_row0_col0, #T_32b87_row1_col1, #T_32b87_row2_col2, #T_32b87_row3_col3, #T_32b87_row4_col4 {\n",
              "  background-color: #b40426;\n",
              "  color: #f1f1f1;\n",
              "}\n",
              "#T_32b87_row0_col1 {\n",
              "  background-color: #f7a98b;\n",
              "  color: #000000;\n",
              "}\n",
              "#T_32b87_row0_col2 {\n",
              "  background-color: #7295f4;\n",
              "  color: #f1f1f1;\n",
              "}\n",
              "#T_32b87_row0_col3 {\n",
              "  background-color: #82a6fb;\n",
              "  color: #f1f1f1;\n",
              "}\n",
              "#T_32b87_row0_col4 {\n",
              "  background-color: #4055c8;\n",
              "  color: #f1f1f1;\n",
              "}\n",
              "#T_32b87_row1_col0 {\n",
              "  background-color: #f5c1a9;\n",
              "  color: #000000;\n",
              "}\n",
              "#T_32b87_row1_col2, #T_32b87_row1_col3, #T_32b87_row2_col4, #T_32b87_row3_col1, #T_32b87_row4_col0 {\n",
              "  background-color: #3b4cc0;\n",
              "  color: #f1f1f1;\n",
              "}\n",
              "#T_32b87_row1_col4 {\n",
              "  background-color: #7b9ff9;\n",
              "  color: #f1f1f1;\n",
              "}\n",
              "#T_32b87_row2_col0 {\n",
              "  background-color: #5e7de7;\n",
              "  color: #f1f1f1;\n",
              "}\n",
              "#T_32b87_row2_col1 {\n",
              "  background-color: #6788ee;\n",
              "  color: #f1f1f1;\n",
              "}\n",
              "#T_32b87_row2_col3 {\n",
              "  background-color: #ec7f63;\n",
              "  color: #f1f1f1;\n",
              "}\n",
              "#T_32b87_row3_col0 {\n",
              "  background-color: #4358cb;\n",
              "  color: #f1f1f1;\n",
              "}\n",
              "#T_32b87_row3_col2 {\n",
              "  background-color: #f18d6f;\n",
              "  color: #f1f1f1;\n",
              "}\n",
              "#T_32b87_row3_col4 {\n",
              "  background-color: #7699f6;\n",
              "  color: #f1f1f1;\n",
              "}\n",
              "#T_32b87_row4_col1 {\n",
              "  background-color: #aec9fc;\n",
              "  color: #000000;\n",
              "}\n",
              "#T_32b87_row4_col2 {\n",
              "  background-color: #465ecf;\n",
              "  color: #f1f1f1;\n",
              "}\n",
              "#T_32b87_row4_col3 {\n",
              "  background-color: #aac7fd;\n",
              "  color: #000000;\n",
              "}\n",
              "</style>\n",
              "<table id=\"T_32b87_\" class=\"dataframe\">\n",
              "  <thead>\n",
              "    <tr>\n",
              "      <th class=\"blank level0\" >&nbsp;</th>\n",
              "      <th class=\"col_heading level0 col0\" >count</th>\n",
              "      <th class=\"col_heading level0 col1\" >present</th>\n",
              "      <th class=\"col_heading level0 col2\" >likes</th>\n",
              "      <th class=\"col_heading level0 col3\" >retweets</th>\n",
              "      <th class=\"col_heading level0 col4\" >compound</th>\n",
              "    </tr>\n",
              "  </thead>\n",
              "  <tbody>\n",
              "    <tr>\n",
              "      <th id=\"T_32b87_level0_row0\" class=\"row_heading level0 row0\" >count</th>\n",
              "      <td id=\"T_32b87_row0_col0\" class=\"data row0 col0\" >1.000000</td>\n",
              "      <td id=\"T_32b87_row0_col1\" class=\"data row0 col1\" >0.486102</td>\n",
              "      <td id=\"T_32b87_row0_col2\" class=\"data row0 col2\" >-0.247511</td>\n",
              "      <td id=\"T_32b87_row0_col3\" class=\"data row0 col3\" >-0.371267</td>\n",
              "      <td id=\"T_32b87_row0_col4\" class=\"data row0 col4\" >-0.412866</td>\n",
              "    </tr>\n",
              "    <tr>\n",
              "      <th id=\"T_32b87_level0_row1\" class=\"row_heading level0 row1\" >present</th>\n",
              "      <td id=\"T_32b87_row1_col0\" class=\"data row1 col0\" >0.486102</td>\n",
              "      <td id=\"T_32b87_row1_col1\" class=\"data row1 col1\" >1.000000</td>\n",
              "      <td id=\"T_32b87_row1_col2\" class=\"data row1 col2\" >-0.509175</td>\n",
              "      <td id=\"T_32b87_row1_col3\" class=\"data row1 col3\" >-0.763763</td>\n",
              "      <td id=\"T_32b87_row1_col4\" class=\"data row1 col4\" >-0.154136</td>\n",
              "    </tr>\n",
              "    <tr>\n",
              "      <th id=\"T_32b87_level0_row2\" class=\"row_heading level0 row2\" >likes</th>\n",
              "      <td id=\"T_32b87_row2_col0\" class=\"data row2 col0\" >-0.247511</td>\n",
              "      <td id=\"T_32b87_row2_col1\" class=\"data row2 col1\" >-0.509175</td>\n",
              "      <td id=\"T_32b87_row2_col2\" class=\"data row2 col2\" >1.000000</td>\n",
              "      <td id=\"T_32b87_row2_col3\" class=\"data row2 col3\" >0.666667</td>\n",
              "      <td id=\"T_32b87_row2_col4\" class=\"data row2 col4\" >-0.444605</td>\n",
              "    </tr>\n",
              "    <tr>\n",
              "      <th id=\"T_32b87_level0_row3\" class=\"row_heading level0 row3\" >retweets</th>\n",
              "      <td id=\"T_32b87_row3_col0\" class=\"data row3 col0\" >-0.371267</td>\n",
              "      <td id=\"T_32b87_row3_col1\" class=\"data row3 col1\" >-0.763763</td>\n",
              "      <td id=\"T_32b87_row3_col2\" class=\"data row3 col2\" >0.666667</td>\n",
              "      <td id=\"T_32b87_row3_col3\" class=\"data row3 col3\" >1.000000</td>\n",
              "      <td id=\"T_32b87_row3_col4\" class=\"data row3 col4\" >-0.176462</td>\n",
              "    </tr>\n",
              "    <tr>\n",
              "      <th id=\"T_32b87_level0_row4\" class=\"row_heading level0 row4\" >compound</th>\n",
              "      <td id=\"T_32b87_row4_col0\" class=\"data row4 col0\" >-0.412866</td>\n",
              "      <td id=\"T_32b87_row4_col1\" class=\"data row4 col1\" >-0.154136</td>\n",
              "      <td id=\"T_32b87_row4_col2\" class=\"data row4 col2\" >-0.444605</td>\n",
              "      <td id=\"T_32b87_row4_col3\" class=\"data row4 col3\" >-0.176462</td>\n",
              "      <td id=\"T_32b87_row4_col4\" class=\"data row4 col4\" >1.000000</td>\n",
              "    </tr>\n",
              "  </tbody>\n",
              "</table>\n"
            ]
          },
          "metadata": {},
          "execution_count": 44
        }
      ]
    },
    {
      "cell_type": "code",
      "source": [
        "#Covariance of the attributes\n",
        "data = [key_df['likes'], key_df['retweets'], key_df['compound']]\n",
        "labs = ['likes', 'retweets', 'compound']\n",
        "covMatrix = np.cov(data,bias=True)\n",
        "sns.heatmap(covMatrix, annot=True, fmt='g', xticklabels=labs, yticklabels=labs)\n",
        "plt.show()"
      ],
      "metadata": {
        "id": "xeUXh_I7gTeb",
        "colab": {
          "base_uri": "https://localhost:8080/",
          "height": 262
        },
        "outputId": "1fcfc61f-e63a-4640-92b0-2d0ee656e253"
      },
      "execution_count": null,
      "outputs": [
        {
          "output_type": "display_data",
          "data": {
            "text/plain": [
              "<Figure size 432x288 with 2 Axes>"
            ],
            "image/png": "[encoded data removed]"
          },
          "metadata": {}
        }
      ]
    },
    {
      "cell_type": "code",
      "source": [
        "#Histogram of Attributes\n",
        "key_df.hist()"
      ],
      "metadata": {
        "id": "wPjUvwhsfSz7",
        "colab": {
          "base_uri": "https://localhost:8080/",
          "height": 402
        },
        "outputId": "461d1d0b-6d80-43bf-8485-33d74a4d52ea"
      },
      "execution_count": null,
      "outputs": [
        {
          "output_type": "execute_result",
          "data": {
            "text/plain": [
              "array([[<matplotlib.axes._subplots.AxesSubplot object at 0x7fe0fb46fed0>,\n",
              "        <matplotlib.axes._subplots.AxesSubplot object at 0x7fe0fb429510>],\n",
              "       [<matplotlib.axes._subplots.AxesSubplot object at 0x7fe0fb3e1b10>,\n",
              "        <matplotlib.axes._subplots.AxesSubplot object at 0x7fe0fb3a5150>],\n",
              "       [<matplotlib.axes._subplots.AxesSubplot object at 0x7fe0fb35b750>,\n",
              "        <matplotlib.axes._subplots.AxesSubplot object at 0x7fe0fb312d50>]],\n",
              "      dtype=object)"
            ]
          },
          "metadata": {},
          "execution_count": 46
        },
        {
          "output_type": "display_data",
          "data": {
            "text/plain": [
              "<Figure size 432x288 with 6 Axes>"
            ],
            "image/png": "[encoded data removed]"
          },
          "metadata": {}
        }
      ]
    },
    {
      "cell_type": "code",
      "source": [
        "sns.pairplot(key_df)"
      ],
      "metadata": {
        "id": "5xZze6ypZrj5",
        "colab": {
          "base_uri": "https://localhost:8080/",
          "height": 921
        },
        "outputId": "e25f2394-109a-464c-d48e-26d4ebab0a92"
      },
      "execution_count": null,
      "outputs": [
        {
          "output_type": "execute_result",
          "data": {
            "text/plain": [
              "<seaborn.axisgrid.PairGrid at 0x7fe0fb1d9f90>"
            ]
          },
          "metadata": {},
          "execution_count": 47
        },
        {
          "output_type": "display_data",
          "data": {
            "text/plain": [
              "<Figure size 900x900 with 30 Axes>"
            ],
            "image/png": "[encoded data removed]"
          },
          "metadata": {}
        }
      ]
    },
    {
      "cell_type": "markdown",
      "source": [
        "#Section 5: Linear Regression\n",
        "\n"
      ],
      "metadata": {
        "id": "C2W2y_iHjFiJ"
      }
    },
    {
      "cell_type": "code",
      "source": [
        "plt.scatter(key_df['count'], key_df['compound'])"
      ],
      "metadata": {
        "id": "UoccQZQQfzj1",
        "colab": {
          "base_uri": "https://localhost:8080/",
          "height": 280
        },
        "outputId": "e2452b34-bdd9-41e3-a818-989c87648a90"
      },
      "execution_count": null,
      "outputs": [
        {
          "output_type": "execute_result",
          "data": {
            "text/plain": [
              "<matplotlib.collections.PathCollection at 0x7fe0f7fa0d50>"
            ]
          },
          "metadata": {},
          "execution_count": 48
        },
        {
          "output_type": "display_data",
          "data": {
            "text/plain": [
              "<Figure size 432x288 with 1 Axes>"
            ],
            "image/png": "[encoded data removed]"
          },
          "metadata": {}
        }
      ]
    },
    {
      "cell_type": "markdown",
      "source": [
        "##A. Linear Regression Model"
      ],
      "metadata": {
        "id": "6pq5iYZkjOTJ"
      }
    },
    {
      "cell_type": "code",
      "source": [
        "#Three functions used to create a linear regression model"
      ],
      "metadata": {
        "id": "tx4o8yMGsDPM"
      },
      "execution_count": null,
      "outputs": []
    },
    {
      "cell_type": "code",
      "source": [
        " def estimate_coef(x, y):\n",
        "    # number of observations/points\n",
        "    n = np.size(x)\n",
        "  \n",
        "    # mean of x and y vector\n",
        "    m_x = np.mean(x)\n",
        "    m_y = np.mean(y)\n",
        "  \n",
        "    # calculating cross-deviation and deviation about x\n",
        "    SS_xy = np.sum(y*x) - n*m_y*m_x\n",
        "    SS_xx = np.sum(x*x) - n*m_x*m_x\n",
        "  \n",
        "    # calculating regression coefficients\n",
        "    b_1 = SS_xy / SS_xx\n",
        "    b_0 = m_y - b_1*m_x\n",
        "  \n",
        "    return (b_0, b_1)\n"
      ],
      "metadata": {
        "id": "bF8nzB3miTJ6"
      },
      "execution_count": null,
      "outputs": []
    },
    {
      "cell_type": "code",
      "source": [
        "def plot_regression_line(x, y, b):\n",
        "    # plotting the actual points as scatter plot\n",
        "    plt.scatter(x, y, color = \"m\",\n",
        "               marker = \"o\", s = 30)\n",
        "  \n",
        "    # predicted response vector\n",
        "    y_pred = b[0] + b[1]*x\n",
        "  \n",
        "    # plotting the regression line\n",
        "    plt.plot(x, y_pred, color = \"g\")\n",
        "  \n",
        "    # putting labels\n",
        "    plt.xlabel('x')\n",
        "    plt.ylabel('y')\n",
        "  \n",
        "    # function to show plot\n",
        "    plt.show()"
      ],
      "metadata": {
        "id": "Biu0oKc1iZXf"
      },
      "execution_count": null,
      "outputs": []
    },
    {
      "cell_type": "code",
      "source": [
        "def plotModel(x, y):\n",
        "    # estimating coefficients\n",
        "    b = estimate_coef(x, y)\n",
        "    print(\"Estimated coefficients:\\nb_0 = {}  \\\n",
        "          \\nb_1 = {}\".format(b[0], b[1]))\n",
        "  \n",
        "    # plotting regression line\n",
        "    plot_regression_line(x, y, b)\n"
      ],
      "metadata": {
        "id": "AfDfBLTDicTY"
      },
      "execution_count": null,
      "outputs": []
    },
    {
      "cell_type": "markdown",
      "source": [
        "The relation between the Compound Score and the number of Likes a twitter post generates. "
      ],
      "metadata": {
        "id": "lsYMB4hPsP1w"
      }
    },
    {
      "cell_type": "code",
      "source": [],
      "metadata": {
        "id": "dm4vkvVpsYBz"
      },
      "execution_count": null,
      "outputs": []
    },
    {
      "cell_type": "code",
      "source": [
        "plotModel(new_df['compound'], new_df['likes'])"
      ],
      "metadata": {
        "id": "1wmR7bFDr9hL",
        "colab": {
          "base_uri": "https://localhost:8080/",
          "height": 330
        },
        "outputId": "314914ec-516b-42a0-af64-d62642fcfeb3"
      },
      "execution_count": null,
      "outputs": [
        {
          "output_type": "stream",
          "name": "stdout",
          "text": [
            "Estimated coefficients:\n",
            "b_0 = 1.7032917406109165            \n",
            "b_1 = 1.8245124049628954\n"
          ]
        },
        {
          "output_type": "display_data",
          "data": {
            "text/plain": [
              "<Figure size 432x288 with 1 Axes>"
            ],
            "image/png": "[encoded data removed]"
          },
          "metadata": {}
        }
      ]
    },
    {
      "cell_type": "markdown",
      "source": [
        "The relation between Likes and Retweets. "
      ],
      "metadata": {
        "id": "EB9sGGxusY_P"
      }
    },
    {
      "cell_type": "code",
      "source": [
        "plotModel(new_df['likes'], new_df['retweets'])"
      ],
      "metadata": {
        "id": "h4wHqopVraLj",
        "colab": {
          "base_uri": "https://localhost:8080/",
          "height": 330
        },
        "outputId": "793a29b1-e4df-4e83-eb81-7618f6b9cc96"
      },
      "execution_count": null,
      "outputs": [
        {
          "output_type": "stream",
          "name": "stdout",
          "text": [
            "Estimated coefficients:\n",
            "b_0 = 0.2824170033080029            \n",
            "b_1 = 0.12601727021560277\n"
          ]
        },
        {
          "output_type": "display_data",
          "data": {
            "text/plain": [
              "<Figure size 432x288 with 1 Axes>"
            ],
            "image/png": "[encoded data removed]"
          },
          "metadata": {}
        }
      ]
    },
    {
      "cell_type": "markdown",
      "source": [
        "If a key word is in the given post, Present will be 1. Given this, the model measures the relationship between the presence of the word and the compound score. "
      ],
      "metadata": {
        "id": "4lAt24SCsds8"
      }
    },
    {
      "cell_type": "code",
      "source": [
        "plotModel(key_df['present'], key_df['compound'])"
      ],
      "metadata": {
        "id": "tu-qoh5greOM",
        "colab": {
          "base_uri": "https://localhost:8080/",
          "height": 330
        },
        "outputId": "8e7787bf-0c18-4cd6-c51d-ba1a3251a583"
      },
      "execution_count": null,
      "outputs": [
        {
          "output_type": "stream",
          "name": "stdout",
          "text": [
            "Estimated coefficients:\n",
            "b_0 = -0.1592666666666666            \n",
            "b_1 = -0.13647619047619053\n"
          ]
        },
        {
          "output_type": "display_data",
          "data": {
            "text/plain": [
              "<Figure size 432x288 with 1 Axes>"
            ],
            "image/png": "[encoded data removed]"
          },
          "metadata": {}
        }
      ]
    },
    {
      "cell_type": "markdown",
      "source": [],
      "metadata": {
        "id": "l79fgqYGsx-r"
      }
    },
    {
      "cell_type": "code",
      "source": [
        "plotModel(new_df['totalwords'], new_df['compound'])"
      ],
      "metadata": {
        "id": "xzTmw3yEsyNl",
        "colab": {
          "base_uri": "https://localhost:8080/",
          "height": 331
        },
        "outputId": "c93bc31b-3759-4bfb-ab72-7b6cd75454b3"
      },
      "execution_count": null,
      "outputs": [
        {
          "output_type": "stream",
          "name": "stdout",
          "text": [
            "Estimated coefficients:\n",
            "b_0 = -0.1120090867450405            \n",
            "b_1 = 0.007276781445479649\n"
          ]
        },
        {
          "output_type": "display_data",
          "data": {
            "text/plain": [
              "<Figure size 432x288 with 1 Axes>"
            ],
            "image/png": "[encoded data removed]"
          },
          "metadata": {}
        }
      ]
    },
    {
      "cell_type": "code",
      "source": [
        "#plotModel(new_df['compound'], new_df['present'])"
      ],
      "metadata": {
        "id": "LaKPqfnCtH07"
      },
      "execution_count": null,
      "outputs": []
    },
    {
      "cell_type": "markdown",
      "source": [
        "\n",
        "\n",
        "---\n",
        "\n"
      ],
      "metadata": {
        "id": "8PXGBVdMqVI6"
      }
    }
  ]
}